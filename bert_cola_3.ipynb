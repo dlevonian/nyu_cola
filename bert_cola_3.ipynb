{
  "nbformat": 4,
  "nbformat_minor": 0,
  "metadata": {
    "colab": {
      "name": "bert_cola_3.ipynb",
      "provenance": [],
      "collapsed_sections": [],
      "machine_shape": "hm",
      "authorship_tag": "ABX9TyN96Fdmu21hqwmk5B3A44Db",
      "include_colab_link": true
    },
    "kernelspec": {
      "name": "python3",
      "display_name": "Python 3"
    },
    "accelerator": "GPU"
  },
  "cells": [
    {
      "cell_type": "markdown",
      "metadata": {
        "id": "view-in-github",
        "colab_type": "text"
      },
      "source": [
        "<a href=\"https://colab.research.google.com/github/dlevonian/nyu_cola/blob/master/bert_cola_3.ipynb\" target=\"_parent\"><img src=\"https://colab.research.google.com/assets/colab-badge.svg\" alt=\"Open In Colab\"/></a>"
      ]
    },
    {
      "cell_type": "markdown",
      "metadata": {
        "id": "E5rhPLIRhsG2",
        "colab_type": "text"
      },
      "source": [
        "### Objective"
      ]
    },
    {
      "cell_type": "markdown",
      "metadata": {
        "id": "GOFQqB2Eh7Sd",
        "colab_type": "text"
      },
      "source": [
        "Tagging the NYU's [Corpus of Linguistic Acceptability (CoLA)](https://nyu-mll.github.io/CoLA/) is one of the GLUE challenges.\n",
        "The CoLA dataset (and associated challenge) was proposed in May 2018 by [Warstadt et al.](https://arxiv.org/pdf/1805.12471.pdf) and was designed to include 3 types of violations:\n",
        "- Morphological Violation (*Maryann should leaving.)\n",
        "- Syntactic Violation (*What did Bill buy potatoes and?)\n",
        "- Semantic Violation (*Kim persuaded it to rain.)\n",
        "\n",
        "There are approximately 8.5K training samples where each sentence is tagged by a Boolean label denoting whether the sentence is grammatical or not. The challenge is evaluated on the test set of about 500 samples.\n",
        "\n",
        "This notebook applies Google's BERT to the CoLA challenge:\n",
        "- transformers have achieved [SOTA results](https://gluebenchmark.com/leaderboard) across a broad range of NLP tasks including the GLUE challenges\n",
        "- our objective is to build an end-to-end TensorFlow pipeline leveraging [TF Hub BERT collection](https://tfhub.dev/google/collections/bert/1)\n",
        "\n"
      ]
    },
    {
      "cell_type": "markdown",
      "metadata": {
        "id": "SpWq9dQPCuEu",
        "colab_type": "text"
      },
      "source": [
        "### Imports"
      ]
    },
    {
      "cell_type": "code",
      "metadata": {
        "id": "dKlK6UDlOUUD",
        "colab_type": "code",
        "colab": {}
      },
      "source": [
        "# make sure nightly builds are installed to use official.nlp modules\n",
        "!pip install tf-nightly\n",
        "!pip install -q tf-models-nightly"
      ],
      "execution_count": null,
      "outputs": []
    },
    {
      "cell_type": "code",
      "metadata": {
        "id": "S5YbTHSaH9q3",
        "colab_type": "code",
        "colab": {
          "base_uri": "https://localhost:8080/",
          "height": 72
        },
        "outputId": "330c63db-5155-4bc3-bef6-2f4a0aa299ce"
      },
      "source": [
        "import numpy as np\n",
        "import pandas as pd\n",
        "\n",
        "import math\n",
        "import time\n",
        "\n",
        "import matplotlib.pyplot as plt\n",
        "import seaborn as sns\n",
        "plt.style.use('ggplot')"
      ],
      "execution_count": 2,
      "outputs": [
        {
          "output_type": "stream",
          "text": [
            "/usr/local/lib/python3.6/dist-packages/statsmodels/tools/_testing.py:19: FutureWarning: pandas.util.testing is deprecated. Use the functions in the public API at pandas.testing instead.\n",
            "  import pandas.util.testing as tm\n"
          ],
          "name": "stderr"
        }
      ]
    },
    {
      "cell_type": "code",
      "metadata": {
        "id": "bbwLHMy9NGJS",
        "colab_type": "code",
        "colab": {
          "base_uri": "https://localhost:8080/",
          "height": 69
        },
        "outputId": "e77b0eb1-9c6c-4e7e-f72c-e5dcd7beacd9"
      },
      "source": [
        "import tensorflow as tf\n",
        "import tensorflow_hub as hub\n",
        "# %load_ext tensorboard\n",
        "\n",
        "from tensorflow import keras\n",
        "from tensorflow.keras.preprocessing.sequence import pad_sequences\n",
        "\n",
        "import official.nlp.bert.tokenization as tokenization\n",
        "import official.nlp.optimization as optimization\n",
        "\n",
        "print(\"TF version: \", tf.__version__)\n",
        "print(\"Hub version: \", hub.__version__)\n",
        "print('GPU is available' if tf.config.experimental.list_physical_devices('GPU') else 'CPU')"
      ],
      "execution_count": 3,
      "outputs": [
        {
          "output_type": "stream",
          "text": [
            "TF version:  2.4.0-dev20200727\n",
            "Hub version:  0.8.0\n",
            "GPU is available\n"
          ],
          "name": "stdout"
        }
      ]
    },
    {
      "cell_type": "code",
      "metadata": {
        "id": "d1xzNyu5Sf5n",
        "colab_type": "code",
        "colab": {
          "base_uri": "https://localhost:8080/",
          "height": 35
        },
        "outputId": "27b8a1f5-2cc5-42b1-9397-5e66a9f97510"
      },
      "source": [
        "from google.colab import drive\n",
        "drive.mount('/content/drive', force_remount=True)\n",
        "path = '/content/drive/My Drive/CoLA/'"
      ],
      "execution_count": 5,
      "outputs": [
        {
          "output_type": "stream",
          "text": [
            "Mounted at /content/drive\n"
          ],
          "name": "stdout"
        }
      ]
    },
    {
      "cell_type": "markdown",
      "metadata": {
        "id": "RMofxb1wVJUf",
        "colab_type": "text"
      },
      "source": [
        "### Load NYU CoLA dataset"
      ]
    },
    {
      "cell_type": "markdown",
      "metadata": {
        "id": "kiNeACx6Hurq",
        "colab_type": "text"
      },
      "source": [
        "Use BLIMP Data"
      ]
    },
    {
      "cell_type": "code",
      "metadata": {
        "id": "KhU822Yoi5kc",
        "colab_type": "code",
        "colab": {
          "base_uri": "https://localhost:8080/",
          "height": 155
        },
        "outputId": "6f658cf3-b899-42fe-9ee2-a10c2c903e44"
      },
      "source": [
        "blimp_train_df = pd.read_csv(path+'blimp_data/blimp_agg.csv')\n",
        "blimp_train_df.set_index(blimp_train_df.columns[0], inplace=True)\n",
        "print(blimp_train_df.shape)\n",
        "blimp_train_df.sample(2)\n"
      ],
      "execution_count": 22,
      "outputs": [
        {
          "output_type": "stream",
          "text": [
            "(134000, 3)\n"
          ],
          "name": "stdout"
        },
        {
          "output_type": "execute_result",
          "data": {
            "text/html": [
              "<div>\n",
              "<style scoped>\n",
              "    .dataframe tbody tr th:only-of-type {\n",
              "        vertical-align: middle;\n",
              "    }\n",
              "\n",
              "    .dataframe tbody tr th {\n",
              "        vertical-align: top;\n",
              "    }\n",
              "\n",
              "    .dataframe thead th {\n",
              "        text-align: right;\n",
              "    }\n",
              "</style>\n",
              "<table border=\"1\" class=\"dataframe\">\n",
              "  <thead>\n",
              "    <tr style=\"text-align: right;\">\n",
              "      <th></th>\n",
              "      <th>source_file</th>\n",
              "      <th>label</th>\n",
              "      <th>sentence</th>\n",
              "    </tr>\n",
              "    <tr>\n",
              "      <th>Unnamed: 0</th>\n",
              "      <th></th>\n",
              "      <th></th>\n",
              "      <th></th>\n",
              "    </tr>\n",
              "  </thead>\n",
              "  <tbody>\n",
              "    <tr>\n",
              "      <th>67334</th>\n",
              "      <td>coordinate_structure_constraint_complex_left_b...</td>\n",
              "      <td>1</td>\n",
              "      <td>Which art galleries did Helen go to and Victor...</td>\n",
              "    </tr>\n",
              "    <tr>\n",
              "      <th>46367</th>\n",
              "      <td>superlative_quantifiers_2.jsonl</td>\n",
              "      <td>0</td>\n",
              "      <td>No legislature was appreciating at least nine ...</td>\n",
              "    </tr>\n",
              "  </tbody>\n",
              "</table>\n",
              "</div>"
            ],
            "text/plain": [
              "                                                  source_file  ...                                           sentence\n",
              "Unnamed: 0                                                     ...                                                   \n",
              "67334       coordinate_structure_constraint_complex_left_b...  ...  Which art galleries did Helen go to and Victor...\n",
              "46367                         superlative_quantifiers_2.jsonl  ...  No legislature was appreciating at least nine ...\n",
              "\n",
              "[2 rows x 3 columns]"
            ]
          },
          "metadata": {
            "tags": []
          },
          "execution_count": 22
        }
      ]
    },
    {
      "cell_type": "code",
      "metadata": {
        "id": "rLhmXCGWCpp9",
        "colab_type": "code",
        "colab": {
          "base_uri": "https://localhost:8080/",
          "height": 125
        },
        "outputId": "b331c54d-46a7-47ae-9a4f-68eccfb2d601"
      },
      "source": [
        "cola_train_df = pd.read_csv(path+'cola_data/in_domain_train.tsv',sep=\"\\t\", header=None)\n",
        "cola_train_df.drop(2, axis=1, inplace=True)\n",
        "cola_train_df = pd.DataFrame(data=cola_train_df.values, columns=blimp_train_df.columns)\n",
        "print(cola_train_df.shape)\n",
        "cola_train_df.sample(2)\n"
      ],
      "execution_count": 28,
      "outputs": [
        {
          "output_type": "stream",
          "text": [
            "(8551, 3)\n"
          ],
          "name": "stdout"
        },
        {
          "output_type": "execute_result",
          "data": {
            "text/html": [
              "<div>\n",
              "<style scoped>\n",
              "    .dataframe tbody tr th:only-of-type {\n",
              "        vertical-align: middle;\n",
              "    }\n",
              "\n",
              "    .dataframe tbody tr th {\n",
              "        vertical-align: top;\n",
              "    }\n",
              "\n",
              "    .dataframe thead th {\n",
              "        text-align: right;\n",
              "    }\n",
              "</style>\n",
              "<table border=\"1\" class=\"dataframe\">\n",
              "  <thead>\n",
              "    <tr style=\"text-align: right;\">\n",
              "      <th></th>\n",
              "      <th>source_file</th>\n",
              "      <th>label</th>\n",
              "      <th>sentence</th>\n",
              "    </tr>\n",
              "  </thead>\n",
              "  <tbody>\n",
              "    <tr>\n",
              "      <th>1783</th>\n",
              "      <td>r-67</td>\n",
              "      <td>1</td>\n",
              "      <td>Willy is taller than Bill by as much a Peter b...</td>\n",
              "    </tr>\n",
              "    <tr>\n",
              "      <th>4082</th>\n",
              "      <td>ks08</td>\n",
              "      <td>1</td>\n",
              "      <td>We were thankful that no one had been hurt.</td>\n",
              "    </tr>\n",
              "  </tbody>\n",
              "</table>\n",
              "</div>"
            ],
            "text/plain": [
              "     source_file label                                           sentence\n",
              "1783        r-67     1  Willy is taller than Bill by as much a Peter b...\n",
              "4082        ks08     1        We were thankful that no one had been hurt."
            ]
          },
          "metadata": {
            "tags": []
          },
          "execution_count": 28
        }
      ]
    },
    {
      "cell_type": "code",
      "metadata": {
        "id": "hFv8-4ZrDqCD",
        "colab_type": "code",
        "colab": {
          "base_uri": "https://localhost:8080/",
          "height": 125
        },
        "outputId": "bdac8d0e-21f7-49a8-c147-c4cd4e736811"
      },
      "source": [
        "# combine the BLIMP dataset with the native CoLA dataset\n",
        "train_df = pd.concat([blimp_train_df, cola_train_df], ignore_index=True, axis=0)\n",
        "print(train_df.shape)\n",
        "train_df.head(2)"
      ],
      "execution_count": 31,
      "outputs": [
        {
          "output_type": "stream",
          "text": [
            "(142551, 3)\n"
          ],
          "name": "stdout"
        },
        {
          "output_type": "execute_result",
          "data": {
            "text/html": [
              "<div>\n",
              "<style scoped>\n",
              "    .dataframe tbody tr th:only-of-type {\n",
              "        vertical-align: middle;\n",
              "    }\n",
              "\n",
              "    .dataframe tbody tr th {\n",
              "        vertical-align: top;\n",
              "    }\n",
              "\n",
              "    .dataframe thead th {\n",
              "        text-align: right;\n",
              "    }\n",
              "</style>\n",
              "<table border=\"1\" class=\"dataframe\">\n",
              "  <thead>\n",
              "    <tr style=\"text-align: right;\">\n",
              "      <th></th>\n",
              "      <th>source_file</th>\n",
              "      <th>label</th>\n",
              "      <th>sentence</th>\n",
              "    </tr>\n",
              "  </thead>\n",
              "  <tbody>\n",
              "    <tr>\n",
              "      <th>0</th>\n",
              "      <td>causative.jsonl</td>\n",
              "      <td>1</td>\n",
              "      <td>Aaron breaks the glass.</td>\n",
              "    </tr>\n",
              "    <tr>\n",
              "      <th>1</th>\n",
              "      <td>causative.jsonl</td>\n",
              "      <td>0</td>\n",
              "      <td>Aaron appeared the glass.</td>\n",
              "    </tr>\n",
              "  </tbody>\n",
              "</table>\n",
              "</div>"
            ],
            "text/plain": [
              "       source_file label                   sentence\n",
              "0  causative.jsonl     1    Aaron breaks the glass.\n",
              "1  causative.jsonl     0  Aaron appeared the glass."
            ]
          },
          "metadata": {
            "tags": []
          },
          "execution_count": 31
        }
      ]
    },
    {
      "cell_type": "code",
      "metadata": {
        "id": "TWsPIKDsj8-q",
        "colab_type": "code",
        "colab": {
          "base_uri": "https://localhost:8080/",
          "height": 233
        },
        "outputId": "d7f20b19-7739-4e42-f949-ba902f691d9f"
      },
      "source": [
        "val_df = pd.read_csv(path+'cola_data/in_domain_dev.tsv',sep=\"\\t\", header=None)\n",
        "print(val_df.shape)\n",
        "print(val_df.iloc[:,1].mean())\n",
        "val_df.sample(5)"
      ],
      "execution_count": 32,
      "outputs": [
        {
          "output_type": "stream",
          "text": [
            "(527, 4)\n",
            "0.6925996204933587\n"
          ],
          "name": "stdout"
        },
        {
          "output_type": "execute_result",
          "data": {
            "text/html": [
              "<div>\n",
              "<style scoped>\n",
              "    .dataframe tbody tr th:only-of-type {\n",
              "        vertical-align: middle;\n",
              "    }\n",
              "\n",
              "    .dataframe tbody tr th {\n",
              "        vertical-align: top;\n",
              "    }\n",
              "\n",
              "    .dataframe thead th {\n",
              "        text-align: right;\n",
              "    }\n",
              "</style>\n",
              "<table border=\"1\" class=\"dataframe\">\n",
              "  <thead>\n",
              "    <tr style=\"text-align: right;\">\n",
              "      <th></th>\n",
              "      <th>0</th>\n",
              "      <th>1</th>\n",
              "      <th>2</th>\n",
              "      <th>3</th>\n",
              "    </tr>\n",
              "  </thead>\n",
              "  <tbody>\n",
              "    <tr>\n",
              "      <th>145</th>\n",
              "      <td>l-93</td>\n",
              "      <td>1</td>\n",
              "      <td>NaN</td>\n",
              "      <td>That movie always shocks.</td>\n",
              "    </tr>\n",
              "    <tr>\n",
              "      <th>516</th>\n",
              "      <td>ad03</td>\n",
              "      <td>1</td>\n",
              "      <td>NaN</td>\n",
              "      <td>Agamemnon seems to be a maniac</td>\n",
              "    </tr>\n",
              "    <tr>\n",
              "      <th>112</th>\n",
              "      <td>r-67</td>\n",
              "      <td>1</td>\n",
              "      <td>NaN</td>\n",
              "      <td>It is easy to play sonatas on this violin.</td>\n",
              "    </tr>\n",
              "    <tr>\n",
              "      <th>363</th>\n",
              "      <td>c_13</td>\n",
              "      <td>1</td>\n",
              "      <td>NaN</td>\n",
              "      <td>Heidi thinks that Andy should eat salmon flavo...</td>\n",
              "    </tr>\n",
              "    <tr>\n",
              "      <th>128</th>\n",
              "      <td>rhl07</td>\n",
              "      <td>0</td>\n",
              "      <td>*</td>\n",
              "      <td>Sam gave the ball out of the basket.</td>\n",
              "    </tr>\n",
              "  </tbody>\n",
              "</table>\n",
              "</div>"
            ],
            "text/plain": [
              "         0  1    2                                                  3\n",
              "145   l-93  1  NaN                          That movie always shocks.\n",
              "516   ad03  1  NaN                     Agamemnon seems to be a maniac\n",
              "112   r-67  1  NaN         It is easy to play sonatas on this violin.\n",
              "363   c_13  1  NaN  Heidi thinks that Andy should eat salmon flavo...\n",
              "128  rhl07  0    *               Sam gave the ball out of the basket."
            ]
          },
          "metadata": {
            "tags": []
          },
          "execution_count": 32
        }
      ]
    },
    {
      "cell_type": "code",
      "metadata": {
        "id": "OI5JCRLJXe-i",
        "colab_type": "code",
        "colab": {
          "base_uri": "https://localhost:8080/",
          "height": 245
        },
        "outputId": "0f49b16c-a25a-4901-a0dd-115cbdf51fcb"
      },
      "source": [
        "test_df = pd.read_csv(path+'cola_data/kaggle_in_domain_test.tsv',sep=\"\\t\", index_col='Id')\n",
        "print(test_df.shape)\n",
        "test_df.sample(5)"
      ],
      "execution_count": 33,
      "outputs": [
        {
          "output_type": "stream",
          "text": [
            "(530, 1)\n"
          ],
          "name": "stdout"
        },
        {
          "output_type": "execute_result",
          "data": {
            "text/html": [
              "<div>\n",
              "<style scoped>\n",
              "    .dataframe tbody tr th:only-of-type {\n",
              "        vertical-align: middle;\n",
              "    }\n",
              "\n",
              "    .dataframe tbody tr th {\n",
              "        vertical-align: top;\n",
              "    }\n",
              "\n",
              "    .dataframe thead th {\n",
              "        text-align: right;\n",
              "    }\n",
              "</style>\n",
              "<table border=\"1\" class=\"dataframe\">\n",
              "  <thead>\n",
              "    <tr style=\"text-align: right;\">\n",
              "      <th></th>\n",
              "      <th>Sentence</th>\n",
              "    </tr>\n",
              "    <tr>\n",
              "      <th>Id</th>\n",
              "      <th></th>\n",
              "    </tr>\n",
              "  </thead>\n",
              "  <tbody>\n",
              "    <tr>\n",
              "      <th>337</th>\n",
              "      <td>All but at most three boys saw anything.</td>\n",
              "    </tr>\n",
              "    <tr>\n",
              "      <th>345</th>\n",
              "      <td>How difficult to study for the exam it was!</td>\n",
              "    </tr>\n",
              "    <tr>\n",
              "      <th>475</th>\n",
              "      <td>I read these three big books.</td>\n",
              "    </tr>\n",
              "    <tr>\n",
              "      <th>335</th>\n",
              "      <td>Is there something I can do for you?</td>\n",
              "    </tr>\n",
              "    <tr>\n",
              "      <th>67</th>\n",
              "      <td>Images of themselves seem to have frightened t...</td>\n",
              "    </tr>\n",
              "  </tbody>\n",
              "</table>\n",
              "</div>"
            ],
            "text/plain": [
              "                                              Sentence\n",
              "Id                                                    \n",
              "337           All but at most three boys saw anything.\n",
              "345        How difficult to study for the exam it was!\n",
              "475                      I read these three big books.\n",
              "335               Is there something I can do for you?\n",
              "67   Images of themselves seem to have frightened t..."
            ]
          },
          "metadata": {
            "tags": []
          },
          "execution_count": 33
        }
      ]
    },
    {
      "cell_type": "code",
      "metadata": {
        "id": "Ffyz2aeRElfg",
        "colab_type": "code",
        "colab": {}
      },
      "source": [
        ""
      ],
      "execution_count": 81,
      "outputs": []
    },
    {
      "cell_type": "markdown",
      "metadata": {
        "id": "zcBPy7dfC1Bs",
        "colab_type": "text"
      },
      "source": [
        "### Load BERT from TF Hub"
      ]
    },
    {
      "cell_type": "markdown",
      "metadata": {
        "id": "QdiKYBLdwHJU",
        "colab_type": "text"
      },
      "source": [
        "Use the light BERT (~400 Mb):  [bert_en_uncased_L-12_H-768_A-*12*](https://tfhub.dev/tensorflow/bert_en_uncased_L-12_H-768_A-12/2)\n",
        "\n"
      ]
    },
    {
      "cell_type": "code",
      "metadata": {
        "id": "Xn2EpU2r3sYZ",
        "colab_type": "code",
        "colab": {
          "base_uri": "https://localhost:8080/",
          "height": 35
        },
        "outputId": "72b352ce-de42-4946-ddcc-a940ebd313cf"
      },
      "source": [
        "tic = time.time()\n",
        "bert_layer = hub.KerasLayer(\"https://tfhub.dev/tensorflow/bert_en_uncased_L-12_H-768_A-12/2\",  \n",
        "                            name = 'bert_layer',\n",
        "                            trainable=True)\n",
        "toc = time.time()\n",
        "print(f'done in {toc-tic:.1f} sec')"
      ],
      "execution_count": 34,
      "outputs": [
        {
          "output_type": "stream",
          "text": [
            "done in 18.7 sec\n"
          ],
          "name": "stdout"
        }
      ]
    },
    {
      "cell_type": "code",
      "metadata": {
        "id": "9pIBbmaXDCyj",
        "colab_type": "code",
        "colab": {
          "base_uri": "https://localhost:8080/",
          "height": 86
        },
        "outputId": "d72223d0-3334-4009-887d-2efdd7220071"
      },
      "source": [
        "bert_layer.get_config()"
      ],
      "execution_count": 35,
      "outputs": [
        {
          "output_type": "execute_result",
          "data": {
            "text/plain": [
              "{'dtype': 'float32',\n",
              " 'handle': 'https://tfhub.dev/tensorflow/bert_en_uncased_L-12_H-768_A-12/2',\n",
              " 'name': 'bert_layer',\n",
              " 'trainable': True}"
            ]
          },
          "metadata": {
            "tags": []
          },
          "execution_count": 35
        }
      ]
    },
    {
      "cell_type": "markdown",
      "metadata": {
        "id": "WZXcDzYmSs3V",
        "colab_type": "text"
      },
      "source": [
        "BERT produces two outputs: \n",
        "- a pooled_output of shape [batch_size, 768] with representations for the entire input sequences \n",
        "- a sequence_output of shape [batch_size, max_seq_length, 768] with representations for each input token (in context)"
      ]
    },
    {
      "cell_type": "code",
      "metadata": {
        "id": "wR3nzieKkdu2",
        "colab_type": "code",
        "colab": {}
      },
      "source": [
        "# dir(bert_layer)"
      ],
      "execution_count": 36,
      "outputs": []
    },
    {
      "cell_type": "markdown",
      "metadata": {
        "id": "NA29LjxclfbU",
        "colab_type": "text"
      },
      "source": [
        "### Tokenization"
      ]
    },
    {
      "cell_type": "code",
      "metadata": {
        "id": "N5yEREftlfeH",
        "colab_type": "code",
        "colab": {}
      },
      "source": [
        "vocab_file = bert_layer.resolved_object.vocab_file.asset_path.numpy()\n",
        "do_lower_case = bert_layer.resolved_object.do_lower_case.numpy()\n",
        "\n",
        "tokenizer = tokenization.FullTokenizer(vocab_file, do_lower_case)\n",
        "# dir(tokenizer)"
      ],
      "execution_count": 37,
      "outputs": []
    },
    {
      "cell_type": "code",
      "metadata": {
        "id": "lIL2odCPHKgq",
        "colab_type": "code",
        "colab": {
          "base_uri": "https://localhost:8080/",
          "height": 52
        },
        "outputId": "879b6220-b849-49be-9fa6-971f84972d6e"
      },
      "source": [
        "s = 'Implement CoLA classification with fine-tuning BERT'\n",
        "tokens = tokenizer.tokenize(s)\n",
        "print(tokens)\n",
        "ids = tokenizer.convert_tokens_to_ids(tokens)\n",
        "print(ids)\n"
      ],
      "execution_count": 38,
      "outputs": [
        {
          "output_type": "stream",
          "text": [
            "['implement', 'cola', 'classification', 'with', 'fine', '-', 'tuning', 'bert']\n",
            "[10408, 15270, 5579, 2007, 2986, 1011, 17372, 14324]\n"
          ],
          "name": "stdout"
        }
      ]
    },
    {
      "cell_type": "code",
      "metadata": {
        "id": "VZNZAv1NPmzj",
        "colab_type": "code",
        "colab": {}
      },
      "source": [
        "def encode_sentence(s):\n",
        "    # any input sequence in BERT must start with [CLS] token\n",
        "    # the first sentence (whether in pairs or standalone) must end with [SEP]\n",
        "    return (tokenizer.convert_tokens_to_ids(['[CLS]']) + \n",
        "            tokenizer.convert_tokens_to_ids(tokenizer.tokenize(s)) + \n",
        "            tokenizer.convert_tokens_to_ids(['[SEP]']))"
      ],
      "execution_count": 39,
      "outputs": []
    },
    {
      "cell_type": "code",
      "metadata": {
        "id": "ivUwPE2yHKQJ",
        "colab_type": "code",
        "colab": {
          "base_uri": "https://localhost:8080/",
          "height": 86
        },
        "outputId": "d10ed494-0e26-4251-e04a-74b39e1f6459"
      },
      "source": [
        "def produce_ids(df):\n",
        "    ids=[]\n",
        "    for s in df.iloc[:,-1]:\n",
        "        ids.append(encode_sentence(s))\n",
        "    return ids\n",
        "\n",
        "train_ids, val_ids, test_ids = map(produce_ids, [train_df, val_df, test_df])    \n",
        "\n",
        "max_len_train = max(map(len, train_ids))\n",
        "max_len_val = max(map(len, val_ids))\n",
        "max_len_test = max(map(len, test_ids))\n",
        "MAX_LEN = max(max_len_train, max_len_val, max_len_test)\n",
        "\n",
        "print(f'max len train =', max_len_train)\n",
        "print(f'max len val =', max_len_val)\n",
        "print(f'max len test =', max_len_test)\n",
        "print(f'MAX LEN =', MAX_LEN)"
      ],
      "execution_count": 40,
      "outputs": [
        {
          "output_type": "stream",
          "text": [
            "max len train = 47\n",
            "max len val = 31\n",
            "max len test = 38\n",
            "MAX LEN = 47\n"
          ],
          "name": "stdout"
        }
      ]
    },
    {
      "cell_type": "code",
      "metadata": {
        "id": "OkMkIq6jVWN2",
        "colab_type": "code",
        "colab": {
          "base_uri": "https://localhost:8080/",
          "height": 265
        },
        "outputId": "5bd309c8-dc8e-4f09-a3e8-58545665b4a1"
      },
      "source": [
        "plt.hist(list(map(len, train_ids)),bins=40)\n",
        "plt.show()"
      ],
      "execution_count": 41,
      "outputs": [
        {
          "output_type": "display_data",
          "data": {
            "image/png": "[encoded data removed]",
            "text/plain": [
              "<Figure size 432x288 with 1 Axes>"
            ]
          },
          "metadata": {
            "tags": []
          }
        }
      ]
    },
    {
      "cell_type": "code",
      "metadata": {
        "id": "PPDmXWayVWSu",
        "colab_type": "code",
        "colab": {
          "base_uri": "https://localhost:8080/",
          "height": 190
        },
        "outputId": "7d0dc579-581f-45e0-e997-0bb8772ad9bb"
      },
      "source": [
        "# Pad zeros to MAX_LEN\n",
        "pad_fn = lambda ids: pad_sequences(ids, maxlen=MAX_LEN, dtype=\"long\", value=0, padding=\"post\")\n",
        "train_ids, val_ids, test_ids = map(pad_fn, [train_ids, val_ids, test_ids])\n",
        "\n",
        "train_ids[:2]"
      ],
      "execution_count": 42,
      "outputs": [
        {
          "output_type": "execute_result",
          "data": {
            "text/plain": [
              "array([[ 101, 7158, 7807, 1996, 3221, 1012,  102,    0,    0,    0,    0,\n",
              "           0,    0,    0,    0,    0,    0,    0,    0,    0,    0,    0,\n",
              "           0,    0,    0,    0,    0,    0,    0,    0,    0,    0,    0,\n",
              "           0,    0,    0,    0,    0,    0,    0,    0,    0,    0,    0,\n",
              "           0,    0,    0],\n",
              "       [ 101, 7158, 2596, 1996, 3221, 1012,  102,    0,    0,    0,    0,\n",
              "           0,    0,    0,    0,    0,    0,    0,    0,    0,    0,    0,\n",
              "           0,    0,    0,    0,    0,    0,    0,    0,    0,    0,    0,\n",
              "           0,    0,    0,    0,    0,    0,    0,    0,    0,    0,    0,\n",
              "           0,    0,    0]])"
            ]
          },
          "metadata": {
            "tags": []
          },
          "execution_count": 42
        }
      ]
    },
    {
      "cell_type": "code",
      "metadata": {
        "id": "Zv6oMH3PgBIQ",
        "colab_type": "code",
        "colab": {
          "base_uri": "https://localhost:8080/",
          "height": 121
        },
        "outputId": "0a9692fa-71cc-42ad-888e-0bf99624b6d9"
      },
      "source": [
        "# Produce BERT input masks indicating relevant tokens \n",
        "mask_fn = np.vectorize(lambda arr: int(arr>0))\n",
        "train_mask, val_mask, test_mask = map(mask_fn, [train_ids, val_ids, test_ids])\n",
        "\n",
        "train_mask[:2]"
      ],
      "execution_count": 43,
      "outputs": [
        {
          "output_type": "execute_result",
          "data": {
            "text/plain": [
              "array([[1, 1, 1, 1, 1, 1, 1, 0, 0, 0, 0, 0, 0, 0, 0, 0, 0, 0, 0, 0, 0, 0,\n",
              "        0, 0, 0, 0, 0, 0, 0, 0, 0, 0, 0, 0, 0, 0, 0, 0, 0, 0, 0, 0, 0, 0,\n",
              "        0, 0, 0],\n",
              "       [1, 1, 1, 1, 1, 1, 1, 0, 0, 0, 0, 0, 0, 0, 0, 0, 0, 0, 0, 0, 0, 0,\n",
              "        0, 0, 0, 0, 0, 0, 0, 0, 0, 0, 0, 0, 0, 0, 0, 0, 0, 0, 0, 0, 0, 0,\n",
              "        0, 0, 0]])"
            ]
          },
          "metadata": {
            "tags": []
          },
          "execution_count": 43
        }
      ]
    },
    {
      "cell_type": "markdown",
      "metadata": {
        "id": "mJcRQkCKTUr6",
        "colab_type": "text"
      },
      "source": [
        "### Produce Datasets"
      ]
    },
    {
      "cell_type": "code",
      "metadata": {
        "id": "5Ki5KQlKgl7u",
        "colab_type": "code",
        "colab": {}
      },
      "source": [
        "# put everything together in one function, produce shuffled, batched TF dataset\n",
        "\n",
        "BATCH_SIZE=32\n",
        "\n",
        "def bert_dataset(df, max_len=MAX_LEN, batch_size=BATCH_SIZE):\n",
        "    \"\"\"\n",
        "    Produce TF dataset from the input dataframe\n",
        "    The convention for the input df is that labels are in column 1, text in column -1\n",
        "    \"\"\"\n",
        "    input_word_ids=[]\n",
        "    for sentence in df.iloc[:,-1]:\n",
        "        input_word_ids.append(encode_sentence(sentence))\n",
        "    input_word_ids = pad_sequences(input_word_ids, maxlen=max_len, dtype=\"long\", value=0, padding=\"post\")\n",
        "\n",
        "    input_mask = np.vectorize(lambda arr: int(arr>0))(input_word_ids)\n",
        "    # BERT needs the 'segment ids' element. For single-sentence tasks such as classification, supply zeros.\n",
        "    input_segment_ids = np.zeros_like(input_mask)\n",
        "\n",
        "    inputs = (input_word_ids, input_mask, input_segment_ids)\n",
        "\n",
        "    labels = df.iloc[:,1].values.astype(float)\n",
        "\n",
        "    dataset = tf.data.Dataset.from_tensor_slices((inputs, labels))\n",
        "    dataset = dataset.shuffle(1024).batch(batch_size) \n",
        "    dataset = dataset.cache()\n",
        "    dataset = dataset.prefetch(tf.data.experimental.AUTOTUNE)\n",
        "    \n",
        "    return dataset"
      ],
      "execution_count": 55,
      "outputs": []
    },
    {
      "cell_type": "code",
      "metadata": {
        "id": "n5WKYdGyTgXa",
        "colab_type": "code",
        "colab": {
          "base_uri": "https://localhost:8080/",
          "height": 521
        },
        "outputId": "d2b2af1e-7484-45a7-a79f-0f2fa5275546"
      },
      "source": [
        "train_dataset = bert_dataset(train_df)\n",
        "val_dataset   = bert_dataset(val_df)\n",
        "\n",
        "# verify the dataset element\n",
        "print(train_dataset.element_spec )\n",
        "next(iter(train_dataset))\n"
      ],
      "execution_count": 56,
      "outputs": [
        {
          "output_type": "stream",
          "text": [
            "((TensorSpec(shape=(None, 47), dtype=tf.int64, name=None), TensorSpec(shape=(None, 47), dtype=tf.int64, name=None), TensorSpec(shape=(None, 47), dtype=tf.int64, name=None)), TensorSpec(shape=(None,), dtype=tf.float64, name=None))\n"
          ],
          "name": "stdout"
        },
        {
          "output_type": "execute_result",
          "data": {
            "text/plain": [
              "((<tf.Tensor: shape=(32, 47), dtype=int64, numpy=\n",
              "  array([[  101,  3814,  4212, ...,     0,     0,     0],\n",
              "         [  101,  4698, 15439, ...,     0,     0,     0],\n",
              "         [  101,  8594, 11005, ...,     0,     0,     0],\n",
              "         ...,\n",
              "         [  101,  2070,  2775, ...,     0,     0,     0],\n",
              "         [  101, 10799,  7121, ...,     0,     0,     0],\n",
              "         [  101,  2984,  9550, ...,     0,     0,     0]])>,\n",
              "  <tf.Tensor: shape=(32, 47), dtype=int64, numpy=\n",
              "  array([[1, 1, 1, ..., 0, 0, 0],\n",
              "         [1, 1, 1, ..., 0, 0, 0],\n",
              "         [1, 1, 1, ..., 0, 0, 0],\n",
              "         ...,\n",
              "         [1, 1, 1, ..., 0, 0, 0],\n",
              "         [1, 1, 1, ..., 0, 0, 0],\n",
              "         [1, 1, 1, ..., 0, 0, 0]])>,\n",
              "  <tf.Tensor: shape=(32, 47), dtype=int64, numpy=\n",
              "  array([[0, 0, 0, ..., 0, 0, 0],\n",
              "         [0, 0, 0, ..., 0, 0, 0],\n",
              "         [0, 0, 0, ..., 0, 0, 0],\n",
              "         ...,\n",
              "         [0, 0, 0, ..., 0, 0, 0],\n",
              "         [0, 0, 0, ..., 0, 0, 0],\n",
              "         [0, 0, 0, ..., 0, 0, 0]])>),\n",
              " <tf.Tensor: shape=(32,), dtype=float64, numpy=\n",
              " array([0., 1., 1., 1., 0., 0., 0., 0., 1., 0., 0., 0., 1., 1., 1., 0., 0.,\n",
              "        1., 0., 1., 1., 1., 1., 0., 1., 1., 0., 0., 0., 1., 1., 1.])>)"
            ]
          },
          "metadata": {
            "tags": []
          },
          "execution_count": 56
        }
      ]
    },
    {
      "cell_type": "markdown",
      "metadata": {
        "id": "w0zSGDOrqO7k",
        "colab_type": "text"
      },
      "source": [
        "### BERT model"
      ]
    },
    {
      "cell_type": "code",
      "metadata": {
        "id": "LyyXab1fhtny",
        "colab_type": "code",
        "colab": {}
      },
      "source": [
        "from tensorflow.keras.models import Model\n",
        "from tensorflow.keras.layers import Input, Dense, Dropout\n",
        "from tensorflow.keras.initializers import Constant\n",
        "\n",
        "from tensorflow.keras.optimizers import Adam\n",
        "from tensorflow.keras.losses import BinaryCrossentropy\n",
        "from tensorflow.keras.metrics import Precision, Recall, AUC\n",
        "\n",
        "import tensorflow.keras.backend as K"
      ],
      "execution_count": 57,
      "outputs": []
    },
    {
      "cell_type": "markdown",
      "metadata": {
        "id": "-q7aapqQzzXg",
        "colab_type": "text"
      },
      "source": [
        "Helper functions"
      ]
    },
    {
      "cell_type": "code",
      "metadata": {
        "id": "CopoyJgqwDVp",
        "colab_type": "code",
        "colab": {}
      },
      "source": [
        "def MCC(y_true, y_pred):\n",
        "    # implement Matthews correlation coefficient\n",
        "    y_true_pos = K.round(K.clip(y_true, 0, 1)) \n",
        "    y_pred_pos = K.round(K.clip(y_pred, 0, 1))\n",
        "    y_true_neg, y_pred_neg = 1-y_true_pos, 1-y_pred_pos\n",
        "\n",
        "    tp = K.sum(y_true_pos * y_pred_pos)\n",
        "    tn = K.sum(y_true_neg * y_pred_neg)\n",
        "    fp = K.sum(y_true_neg * y_pred_pos)\n",
        "    fn = K.sum(y_true_pos * y_pred_neg)\n",
        "\n",
        "    return (tp*tn - fp*fn)/(K.sqrt((tp+fp)*(tp+fn)*(tn+fp)*(tn+fn)) + K.epsilon())\n"
      ],
      "execution_count": 58,
      "outputs": []
    },
    {
      "cell_type": "code",
      "metadata": {
        "id": "QFnbOTwweJGB",
        "colab_type": "code",
        "colab": {}
      },
      "source": [
        "def plot_training(history):\n",
        "    f,axes = plt.subplots(1, 2, figsize=(12, 4))\n",
        "    ax0,ax1=axes[0],axes[1]\n",
        "    epochs = np.arange(1,EPOCHS+1)\n",
        "\n",
        "    ax0.plot(epochs, history.history['MCC'], label='MCC train') \n",
        "    ax0.plot(epochs, history.history['val_MCC'], label='MCC val') \n",
        "    ax0.set_title('Matthews correlation')\n",
        "    ax0.set_ylim(0,1.1)\n",
        "    ax0.legend()\n",
        "\n",
        "    ax1.plot(epochs, history.history['AUC'], label='AUC train') \n",
        "    ax1.plot(epochs, history.history['val_AUC'], label='AUC val') \n",
        "    ax1.set_title('AUC')\n",
        "    ax1.set_ylim(0,1.1)\n",
        "    ax1.legend()\n",
        "\n",
        "    plt.show()"
      ],
      "execution_count": 59,
      "outputs": []
    },
    {
      "cell_type": "markdown",
      "metadata": {
        "id": "AMmpRX57ztCI",
        "colab_type": "text"
      },
      "source": [
        "Build the model using BERT layer"
      ]
    },
    {
      "cell_type": "code",
      "metadata": {
        "id": "SlKDp37XqO-L",
        "colab_type": "code",
        "colab": {}
      },
      "source": [
        "input_word_ids = Input(shape=(MAX_LEN,), dtype=tf.int32, name=\"input_word_ids\")\n",
        "input_mask     = Input(shape=(MAX_LEN,), dtype=tf.int32, name=\"input_mask\")\n",
        "segment_ids    = Input(shape=(MAX_LEN,), dtype=tf.int32, name=\"segment_ids\")\n",
        "\n",
        "inputs = [input_word_ids, input_mask, segment_ids]\n",
        "\n",
        "# BERT has 2 outputs - pooled_output, sequence_output\n",
        "# For classification purposes, use only the pooled_output (H dimension of the first [CLS] token)\n",
        "x, _ = bert_layer(inputs)\n",
        "\n",
        "dropout_rate = 0.1\n",
        "x = Dropout(dropout_rate)(x)\n",
        "\n",
        "# initial bias for the classifier to reflect class imbalance\n",
        "class_bias = np.log(1/(1-train_df.iloc[:,1].mean())-1)\n",
        "output = Dense(1, activation='sigmoid', bias_initializer=Constant(class_bias))(x)\n",
        "\n",
        "model = Model(inputs, output)"
      ],
      "execution_count": 99,
      "outputs": []
    },
    {
      "cell_type": "code",
      "metadata": {
        "id": "AfoNAvAvueZ1",
        "colab_type": "code",
        "colab": {
          "base_uri": "https://localhost:8080/",
          "height": 397
        },
        "outputId": "9bca0d4e-345a-4bbe-ca2d-8f50ef0455b6"
      },
      "source": [
        "model.summary()"
      ],
      "execution_count": 100,
      "outputs": [
        {
          "output_type": "stream",
          "text": [
            "Model: \"functional_7\"\n",
            "__________________________________________________________________________________________________\n",
            "Layer (type)                    Output Shape         Param #     Connected to                     \n",
            "==================================================================================================\n",
            "input_word_ids (InputLayer)     [(None, 47)]         0                                            \n",
            "__________________________________________________________________________________________________\n",
            "input_mask (InputLayer)         [(None, 47)]         0                                            \n",
            "__________________________________________________________________________________________________\n",
            "segment_ids (InputLayer)        [(None, 47)]         0                                            \n",
            "__________________________________________________________________________________________________\n",
            "bert_layer (KerasLayer)         [(None, 768), (None, 109482241   input_word_ids[0][0]             \n",
            "                                                                 input_mask[0][0]                 \n",
            "                                                                 segment_ids[0][0]                \n",
            "__________________________________________________________________________________________________\n",
            "dropout_3 (Dropout)             (None, 768)          0           bert_layer[3][0]                 \n",
            "__________________________________________________________________________________________________\n",
            "dense_3 (Dense)                 (None, 1)            769         dropout_3[0][0]                  \n",
            "==================================================================================================\n",
            "Total params: 109,483,010\n",
            "Trainable params: 109,483,009\n",
            "Non-trainable params: 1\n",
            "__________________________________________________________________________________________________\n"
          ],
          "name": "stdout"
        }
      ]
    },
    {
      "cell_type": "code",
      "metadata": {
        "id": "fAilgGHeQO5M",
        "colab_type": "code",
        "colab": {
          "base_uri": "https://localhost:8080/",
          "height": 287
        },
        "outputId": "a6f3194a-b2e6-4d9d-93f1-e8e4dc7735b1"
      },
      "source": [
        "tf.keras.utils.plot_model(model, show_shapes=True, dpi=64)"
      ],
      "execution_count": 101,
      "outputs": [
        {
          "output_type": "execute_result",
          "data": {
            "image/png": "[encoded data removed]",
            "text/plain": [
              "<IPython.core.display.Image object>"
            ]
          },
          "metadata": {
            "tags": []
          },
          "execution_count": 101
        }
      ]
    },
    {
      "cell_type": "code",
      "metadata": {
        "id": "sOFDYtiYX1Vs",
        "colab_type": "code",
        "colab": {
          "base_uri": "https://localhost:8080/",
          "height": 52
        },
        "outputId": "e0e742c5-2da3-4f6a-b589-2ee3bdf53b96"
      },
      "source": [
        "# verify the proper functioning of the computational graph\n",
        "tic=time.time()\n",
        "\n",
        "sample_input = next(iter(train_dataset))\n",
        "sample_output = model(sample_input)\n",
        "\n",
        "toc=time.time()\n",
        "print(f'done in {toc-tic:.1f} sec')\n",
        "print(sample_output.shape)\n"
      ],
      "execution_count": 102,
      "outputs": [
        {
          "output_type": "stream",
          "text": [
            "done in 0.1 sec\n",
            "(32, 1)\n"
          ],
          "name": "stdout"
        }
      ]
    },
    {
      "cell_type": "code",
      "metadata": {
        "id": "uIGVEGAlh3Vm",
        "colab_type": "code",
        "colab": {}
      },
      "source": [
        "EPOCHS = 10"
      ],
      "execution_count": 103,
      "outputs": []
    },
    {
      "cell_type": "code",
      "metadata": {
        "id": "oAG8tDZUhG48",
        "colab_type": "code",
        "colab": {}
      },
      "source": [
        "# set up the optimizer\n",
        "train_data_size = train_df.shape[0]\n",
        "steps_per_epoch = int(train_data_size / BATCH_SIZE)\n",
        "num_train_steps = steps_per_epoch * EPOCHS\n",
        "warmup_steps = 0 #int(EPOCHS * train_data_size * 0.1 / BATCH_SIZE)\n",
        "\n",
        "bert_optimizer = optimization.create_optimizer(init_lr=1e-6,\n",
        "                                        num_train_steps=num_train_steps, \n",
        "                                        num_warmup_steps=warmup_steps)"
      ],
      "execution_count": 104,
      "outputs": []
    },
    {
      "cell_type": "code",
      "metadata": {
        "id": "lGlFQCrk17Yr",
        "colab_type": "code",
        "colab": {}
      },
      "source": [
        "# Use either bert_optimizer or Adam with flat schedule (e.g. Adam(1e-5))\n",
        "model.compile(optimizer=bert_optimizer,\n",
        "              loss=BinaryCrossentropy(),\n",
        "              metrics=[MCC, AUC(name='AUC')], \n",
        "              )\n"
      ],
      "execution_count": 105,
      "outputs": []
    },
    {
      "cell_type": "code",
      "metadata": {
        "id": "An3UEjtM2b-i",
        "colab_type": "code",
        "colab": {}
      },
      "source": [
        "history = model.fit(\n",
        "    train_dataset,\n",
        "    epochs=EPOCHS,\n",
        "    verbose=1,\n",
        "\n",
        "    # callbacks = [early_stopping],\n",
        "    validation_data=val_dataset)"
      ],
      "execution_count": null,
      "outputs": []
    },
    {
      "cell_type": "code",
      "metadata": {
        "id": "o_Bpjl-fmh7E",
        "colab_type": "code",
        "colab": {
          "base_uri": "https://localhost:8080/",
          "height": 282
        },
        "outputId": "1ab85974-90bc-4bff-de9b-d0c09cf1f296"
      },
      "source": [
        "plot_training(history)"
      ],
      "execution_count": 79,
      "outputs": [
        {
          "output_type": "display_data",
          "data": {
            "image/png": "[encoded data removed]",
            "text/plain": [
              "<Figure size 864x288 with 2 Axes>"
            ]
          },
          "metadata": {
            "tags": []
          }
        }
      ]
    },
    {
      "cell_type": "markdown",
      "metadata": {
        "id": "cfoBkaAfmOCu",
        "colab_type": "text"
      },
      "source": [
        "Apparent overfitting starting at about epoch 5. A quick search through plausible dropout/learning rates did not yield any stable improvements. \n",
        "The training dataset is very small, and one of the remedies to overfitting may be training on other sources of good/bad sentences. This is expressely permitted under the GLUE rules."
      ]
    },
    {
      "cell_type": "code",
      "metadata": {
        "id": "c4R7yRKWEsVo",
        "colab_type": "code",
        "colab": {}
      },
      "source": [
        "save_model = True\n",
        "if save_model:\n",
        "    model_name = 'cola_3_combined_train_set_kaggle_060516'\n",
        "    model.save(path+'models/'+model_name+'.h5') "
      ],
      "execution_count": 113,
      "outputs": []
    },
    {
      "cell_type": "code",
      "metadata": {
        "id": "lpvCZBtAgGtX",
        "colab_type": "code",
        "colab": {}
      },
      "source": [
        "# del model\n",
        "# 1/0"
      ],
      "execution_count": 98,
      "outputs": []
    },
    {
      "cell_type": "markdown",
      "metadata": {
        "id": "z_7k3jGD4p4H",
        "colab_type": "text"
      },
      "source": [
        "### Predict test (Kaggle)"
      ]
    },
    {
      "cell_type": "markdown",
      "metadata": {
        "id": "R-cr4QPzTjt5",
        "colab_type": "text"
      },
      "source": [
        "From CoLA [Kaggle competition](https://www.kaggle.com/c/cola-in-domain-open-evaluation/overview) rules: \n",
        "- For submission you will have to generate a CSV with two columns, Id and Label where Id is same and Label is 0 or 1 depicting whether Sentence is grammatical or not."
      ]
    },
    {
      "cell_type": "code",
      "metadata": {
        "id": "agD1TUgdRr0u",
        "colab_type": "code",
        "colab": {
          "base_uri": "https://localhost:8080/",
          "height": 228
        },
        "outputId": "cf2ba552-6840-4a98-e681-ec08706230c8"
      },
      "source": [
        "test_df.head()"
      ],
      "execution_count": 108,
      "outputs": [
        {
          "output_type": "execute_result",
          "data": {
            "text/html": [
              "<div>\n",
              "<style scoped>\n",
              "    .dataframe tbody tr th:only-of-type {\n",
              "        vertical-align: middle;\n",
              "    }\n",
              "\n",
              "    .dataframe tbody tr th {\n",
              "        vertical-align: top;\n",
              "    }\n",
              "\n",
              "    .dataframe thead th {\n",
              "        text-align: right;\n",
              "    }\n",
              "</style>\n",
              "<table border=\"1\" class=\"dataframe\">\n",
              "  <thead>\n",
              "    <tr style=\"text-align: right;\">\n",
              "      <th></th>\n",
              "      <th>Sentence</th>\n",
              "    </tr>\n",
              "    <tr>\n",
              "      <th>Id</th>\n",
              "      <th></th>\n",
              "    </tr>\n",
              "  </thead>\n",
              "  <tbody>\n",
              "    <tr>\n",
              "      <th>1</th>\n",
              "      <td>Bill whistled past the house.</td>\n",
              "    </tr>\n",
              "    <tr>\n",
              "      <th>2</th>\n",
              "      <td>The car honked its way down the road.</td>\n",
              "    </tr>\n",
              "    <tr>\n",
              "      <th>3</th>\n",
              "      <td>Bill pushed Harry off the sofa.</td>\n",
              "    </tr>\n",
              "    <tr>\n",
              "      <th>4</th>\n",
              "      <td>the kittens yawned awake and played.</td>\n",
              "    </tr>\n",
              "    <tr>\n",
              "      <th>5</th>\n",
              "      <td>I demand that the more John eats, the more he ...</td>\n",
              "    </tr>\n",
              "  </tbody>\n",
              "</table>\n",
              "</div>"
            ],
            "text/plain": [
              "                                             Sentence\n",
              "Id                                                   \n",
              "1                       Bill whistled past the house.\n",
              "2               The car honked its way down the road.\n",
              "3                     Bill pushed Harry off the sofa.\n",
              "4                the kittens yawned awake and played.\n",
              "5   I demand that the more John eats, the more he ..."
            ]
          },
          "metadata": {
            "tags": []
          },
          "execution_count": 108
        }
      ]
    },
    {
      "cell_type": "code",
      "metadata": {
        "id": "KTcV1IzXSEI9",
        "colab_type": "code",
        "colab": {}
      },
      "source": [
        "# produce 3-part inputs for BERT from the test file\n",
        "max_len=MAX_LEN\n",
        "\n",
        "input_word_ids=[]\n",
        "for sentence in test_df.iloc[:,-1]:\n",
        "    input_word_ids.append(encode_sentence(sentence))\n",
        "input_word_ids = pad_sequences(input_word_ids, maxlen=max_len, dtype=\"long\", value=0, padding=\"post\")\n",
        "input_mask = np.vectorize(lambda arr: int(arr>0))(input_word_ids)\n",
        "input_segment_ids = np.zeros_like(input_mask)\n",
        "inputs = (input_word_ids, input_mask, input_segment_ids)\n"
      ],
      "execution_count": 109,
      "outputs": []
    },
    {
      "cell_type": "code",
      "metadata": {
        "id": "5T4M45Q_SQcC",
        "colab_type": "code",
        "colab": {
          "base_uri": "https://localhost:8080/",
          "height": 52
        },
        "outputId": "9035ad28-44ad-4770-e564-84211c4d9d46"
      },
      "source": [
        "test_predictions = np.squeeze(model(inputs).numpy())\n",
        "print(test_predictions.shape)\n",
        "print(np.mean(np.round(test_predictions)))"
      ],
      "execution_count": 110,
      "outputs": [
        {
          "output_type": "stream",
          "text": [
            "(530,)\n",
            "0.83396226\n"
          ],
          "name": "stdout"
        }
      ]
    },
    {
      "cell_type": "code",
      "metadata": {
        "id": "s3sd4lEMUY2H",
        "colab_type": "code",
        "colab": {
          "base_uri": "https://localhost:8080/",
          "height": 198
        },
        "outputId": "29a00ecf-120a-4cc8-973c-6de1355d2e13"
      },
      "source": [
        "kaggle_df = pd.DataFrame({'Id': test_df.index, 'Label': np.round(test_predictions)}, dtype=int)\n",
        "kaggle_df.head()"
      ],
      "execution_count": 111,
      "outputs": [
        {
          "output_type": "execute_result",
          "data": {
            "text/html": [
              "<div>\n",
              "<style scoped>\n",
              "    .dataframe tbody tr th:only-of-type {\n",
              "        vertical-align: middle;\n",
              "    }\n",
              "\n",
              "    .dataframe tbody tr th {\n",
              "        vertical-align: top;\n",
              "    }\n",
              "\n",
              "    .dataframe thead th {\n",
              "        text-align: right;\n",
              "    }\n",
              "</style>\n",
              "<table border=\"1\" class=\"dataframe\">\n",
              "  <thead>\n",
              "    <tr style=\"text-align: right;\">\n",
              "      <th></th>\n",
              "      <th>Id</th>\n",
              "      <th>Label</th>\n",
              "    </tr>\n",
              "  </thead>\n",
              "  <tbody>\n",
              "    <tr>\n",
              "      <th>0</th>\n",
              "      <td>1</td>\n",
              "      <td>1</td>\n",
              "    </tr>\n",
              "    <tr>\n",
              "      <th>1</th>\n",
              "      <td>2</td>\n",
              "      <td>1</td>\n",
              "    </tr>\n",
              "    <tr>\n",
              "      <th>2</th>\n",
              "      <td>3</td>\n",
              "      <td>1</td>\n",
              "    </tr>\n",
              "    <tr>\n",
              "      <th>3</th>\n",
              "      <td>4</td>\n",
              "      <td>1</td>\n",
              "    </tr>\n",
              "    <tr>\n",
              "      <th>4</th>\n",
              "      <td>5</td>\n",
              "      <td>0</td>\n",
              "    </tr>\n",
              "  </tbody>\n",
              "</table>\n",
              "</div>"
            ],
            "text/plain": [
              "   Id  Label\n",
              "0   1      1\n",
              "1   2      1\n",
              "2   3      1\n",
              "3   4      1\n",
              "4   5      0"
            ]
          },
          "metadata": {
            "tags": []
          },
          "execution_count": 111
        }
      ]
    },
    {
      "cell_type": "code",
      "metadata": {
        "id": "tOP_nzuXakzc",
        "colab_type": "code",
        "colab": {}
      },
      "source": [
        "kaggle_df.to_csv(path+f'predictions/cola_{int(time.time())}.csv', index=False)"
      ],
      "execution_count": 112,
      "outputs": []
    },
    {
      "cell_type": "code",
      "metadata": {
        "id": "cEu7UGJ4B7us",
        "colab_type": "code",
        "colab": {}
      },
      "source": [
        "# Submission file: cola_1595904906.csv\n",
        "# Your submission scored 0.60516"
      ],
      "execution_count": null,
      "outputs": []
    }
  ]
}