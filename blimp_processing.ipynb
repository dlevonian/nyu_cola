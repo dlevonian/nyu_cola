{
  "nbformat": 4,
  "nbformat_minor": 0,
  "metadata": {
    "colab": {
      "name": "blimp_processing.ipynb",
      "provenance": [],
      "collapsed_sections": [],
      "authorship_tag": "ABX9TyOAXFal0bwTv3E0v4pPs23I",
      "include_colab_link": true
    },
    "kernelspec": {
      "name": "python3",
      "display_name": "Python 3"
    }
  },
  "cells": [
    {
      "cell_type": "markdown",
      "metadata": {
        "id": "view-in-github",
        "colab_type": "text"
      },
      "source": [
        "<a href=\"https://colab.research.google.com/github/dlevonian/nyu_cola/blob/master/blimp_processing.ipynb\" target=\"_parent\"><img src=\"https://colab.research.google.com/assets/colab-badge.svg\" alt=\"Open In Colab\"/></a>"
      ]
    },
    {
      "cell_type": "code",
      "metadata": {
        "id": "tuFE_uFMW-xb",
        "colab_type": "code",
        "colab": {}
      },
      "source": [
        "import numpy as np\n",
        "import pandas as pd\n",
        "\n",
        "import math\n",
        "import time\n",
        "\n",
        "import json\n",
        "from os import listdir\n",
        "\n",
        "import matplotlib.pyplot as plt\n",
        "import seaborn as sns\n",
        "plt.style.use('ggplot')"
      ],
      "execution_count": 30,
      "outputs": []
    },
    {
      "cell_type": "code",
      "metadata": {
        "id": "xD6uLyJDXL2n",
        "colab_type": "code",
        "colab": {
          "base_uri": "https://localhost:8080/",
          "height": 35
        },
        "outputId": "738648d4-12d8-462f-8f63-0fbdba160479"
      },
      "source": [
        "from google.colab import drive\n",
        "drive.mount('/content/drive', force_remount=True)\n",
        "path = '/content/drive/My Drive/CoLA/'"
      ],
      "execution_count": 4,
      "outputs": [
        {
          "output_type": "stream",
          "text": [
            "Mounted at /content/drive\n"
          ],
          "name": "stdout"
        }
      ]
    },
    {
      "cell_type": "code",
      "metadata": {
        "id": "6fdqlHM4Zl5O",
        "colab_type": "code",
        "colab": {
          "base_uri": "https://localhost:8080/",
          "height": 141
        },
        "outputId": "bb9c1a35-dd88-45fd-9594-786a7ca59dab"
      },
      "source": [
        "# verify the content of an individual file\n",
        "source_file = path+'blimp_data/source_json/wh_vs_that_with_gap.jsonl'\n",
        "\n",
        "with open(source_file, 'r') as f:\n",
        "    json_list = list(f)\n",
        "\n",
        "# to train the CoLA classifier, we only need 1/0 labels\n",
        "print(len(json_list))\n",
        "json_list[:5]"
      ],
      "execution_count": 43,
      "outputs": [
        {
          "output_type": "stream",
          "text": [
            "1000\n"
          ],
          "name": "stdout"
        },
        {
          "output_type": "execute_result",
          "data": {
            "text/plain": [
              "['{\"sentence_good\": \"A lady has remembered who the actors conceal.\", \"sentence_bad\": \"A lady has remembered that the actors conceal.\", \"field\": \"syntax\", \"linguistics_term\": \"filler_gap_dependency\", \"UID\": \"wh_vs_that_with_gap\", \"simple_LM_method\": true, \"one_prefix_method\": false, \"two_prefix_method\": false, \"lexically_identical\": false, \"pairID\": \"0\"}\\n',\n",
              " '{\"sentence_good\": \"Teenagers know what all ladies haven\\'t examined.\", \"sentence_bad\": \"Teenagers know that all ladies haven\\'t examined.\", \"field\": \"syntax\", \"linguistics_term\": \"filler_gap_dependency\", \"UID\": \"wh_vs_that_with_gap\", \"simple_LM_method\": true, \"one_prefix_method\": false, \"two_prefix_method\": false, \"lexically_identical\": false, \"pairID\": \"1\"}\\n',\n",
              " '{\"sentence_good\": \"Dancers hadn\\'t figured out who the actress didn\\'t reveal.\", \"sentence_bad\": \"Dancers hadn\\'t figured out that the actress didn\\'t reveal.\", \"field\": \"syntax\", \"linguistics_term\": \"filler_gap_dependency\", \"UID\": \"wh_vs_that_with_gap\", \"simple_LM_method\": true, \"one_prefix_method\": false, \"two_prefix_method\": false, \"lexically_identical\": false, \"pairID\": \"2\"}\\n',\n",
              " '{\"sentence_good\": \"All guys find out who some patient was scaring.\", \"sentence_bad\": \"All guys find out that some patient was scaring.\", \"field\": \"syntax\", \"linguistics_term\": \"filler_gap_dependency\", \"UID\": \"wh_vs_that_with_gap\", \"simple_LM_method\": true, \"one_prefix_method\": false, \"two_prefix_method\": false, \"lexically_identical\": false, \"pairID\": \"3\"}\\n',\n",
              " '{\"sentence_good\": \"Nina has learned who most men sound like.\", \"sentence_bad\": \"Nina has learned that most men sound like.\", \"field\": \"syntax\", \"linguistics_term\": \"filler_gap_dependency\", \"UID\": \"wh_vs_that_with_gap\", \"simple_LM_method\": true, \"one_prefix_method\": false, \"two_prefix_method\": false, \"lexically_identical\": false, \"pairID\": \"4\"}\\n']"
            ]
          },
          "metadata": {
            "tags": []
          },
          "execution_count": 43
        }
      ]
    },
    {
      "cell_type": "code",
      "metadata": {
        "id": "UahdQjuuiVmZ",
        "colab_type": "code",
        "colab": {
          "base_uri": "https://localhost:8080/",
          "height": 1000
        },
        "outputId": "79736b17-038b-4cbb-9845-beb9cda8133b"
      },
      "source": [
        "# collect all the BLIMP data in one single dataframe\n",
        "# the output dataframe structure:\n",
        "#  source_file       1/0      text\n",
        "\n",
        "df = pd.DataFrame(columns=['source_file', 'label', 'sentence'])\n",
        "json_dir = path+'blimp_data/source_json/'\n",
        "\n",
        "for source_file in listdir(json_dir):\n",
        "    \n",
        "    with open(json_dir+source_file, 'r') as f:\n",
        "        json_list = list(f)\n",
        "\n",
        "    for item in json_list:\n",
        "        item = json.loads(item)\n",
        "        df.loc[df.shape[0]] = [source_file, 1, item['sentence_good']]\n",
        "        df.loc[df.shape[0]] = [source_file, 0, item['sentence_bad']]\n",
        "\n",
        "    print(f'processed {source_file}  |  df shape: {df.shape}')\n"
      ],
      "execution_count": 38,
      "outputs": [
        {
          "output_type": "stream",
          "text": [
            "processed causative.jsonl  |  df shape: (2000, 3)\n",
            "processed existential_there_quantifiers_1.jsonl  |  df shape: (4000, 3)\n",
            "processed ellipsis_n_bar_2.jsonl  |  df shape: (6000, 3)\n",
            "processed principle_A_case_2.jsonl  |  df shape: (8000, 3)\n",
            "processed distractor_agreement_relative_clause.jsonl  |  df shape: (10000, 3)\n",
            "processed anaphor_number_agreement.jsonl  |  df shape: (12000, 3)\n",
            "processed wh_vs_that_no_gap.jsonl  |  df shape: (14000, 3)\n",
            "processed superlative_quantifiers_1.jsonl  |  df shape: (16000, 3)\n",
            "processed animate_subject_trans.jsonl  |  df shape: (18000, 3)\n",
            "processed determiner_noun_agreement_irregular_2.jsonl  |  df shape: (20000, 3)\n",
            "processed only_npi_scope.jsonl  |  df shape: (22000, 3)\n",
            "processed irregular_plural_subject_verb_agreement_1.jsonl  |  df shape: (24000, 3)\n",
            "processed principle_A_reconstruction.jsonl  |  df shape: (26000, 3)\n",
            "processed sentential_negation_npi_scope.jsonl  |  df shape: (28000, 3)\n",
            "processed left_branch_island_simple_question.jsonl  |  df shape: (30000, 3)\n",
            "processed passive_1.jsonl  |  df shape: (32000, 3)\n",
            "processed drop_argument.jsonl  |  df shape: (34000, 3)\n",
            "processed existential_there_quantifiers_2.jsonl  |  df shape: (36000, 3)\n",
            "processed determiner_noun_agreement_with_adj_2.jsonl  |  df shape: (38000, 3)\n",
            "processed wh_island.jsonl  |  df shape: (40000, 3)\n",
            "processed ellipsis_n_bar_1.jsonl  |  df shape: (42000, 3)\n",
            "processed principle_A_case_1.jsonl  |  df shape: (44000, 3)\n",
            "processed inchoative.jsonl  |  df shape: (46000, 3)\n",
            "processed superlative_quantifiers_2.jsonl  |  df shape: (48000, 3)\n",
            "processed wh_questions_subject_gap.jsonl  |  df shape: (50000, 3)\n",
            "processed adjunct_island.jsonl  |  df shape: (52000, 3)\n",
            "processed complex_NP_island.jsonl  |  df shape: (54000, 3)\n",
            "processed wh_vs_that_with_gap.jsonl  |  df shape: (56000, 3)\n",
            "processed irregular_plural_subject_verb_agreement_2.jsonl  |  df shape: (58000, 3)\n",
            "processed determiner_noun_agreement_irregular_1.jsonl  |  df shape: (60000, 3)\n",
            "processed wh_questions_subject_gap_long_distance.jsonl  |  df shape: (62000, 3)\n",
            "processed expletive_it_object_raising.jsonl  |  df shape: (64000, 3)\n",
            "processed only_npi_licensor_present.jsonl  |  df shape: (66000, 3)\n",
            "processed coordinate_structure_constraint_complex_left_branch.jsonl  |  df shape: (68000, 3)\n",
            "processed passive_2.jsonl  |  df shape: (70000, 3)\n",
            "processed determiner_noun_agreement_with_adjective_1.jsonl  |  df shape: (72000, 3)\n",
            "processed regular_plural_subject_verb_agreement_1.jsonl  |  df shape: (74000, 3)\n",
            "processed animate_subject_passive.jsonl  |  df shape: (76000, 3)\n",
            "processed determiner_noun_agreement_with_adj_irregular_2.jsonl  |  df shape: (78000, 3)\n",
            "processed npi_present_1.jsonl  |  df shape: (80000, 3)\n",
            "processed tough_vs_raising_1.jsonl  |  df shape: (82000, 3)\n",
            "processed irregular_past_participle_adjectives.jsonl  |  df shape: (84000, 3)\n",
            "processed sentential_negation_npi_licensor_present.jsonl  |  df shape: (86000, 3)\n",
            "processed existential_there_object_raising.jsonl  |  df shape: (88000, 3)\n",
            "processed wh_vs_that_with_gap_long_distance.jsonl  |  df shape: (90000, 3)\n",
            "processed sentential_subject_island.jsonl  |  df shape: (92000, 3)\n",
            "processed intransitive.jsonl  |  df shape: (94000, 3)\n",
            "processed principle_A_domain_3.jsonl  |  df shape: (96000, 3)\n",
            "processed principle_A_domain_1.jsonl  |  df shape: (98000, 3)\n",
            "processed determiner_noun_agreement_1.jsonl  |  df shape: (100000, 3)\n",
            "processed left_branch_island_echo_question.jsonl  |  df shape: (102000, 3)\n",
            "processed anaphor_gender_agreement.jsonl  |  df shape: (104000, 3)\n",
            "processed irregular_past_participle_verbs.jsonl  |  df shape: (106000, 3)\n",
            "processed tough_vs_raising_2.jsonl  |  df shape: (108000, 3)\n",
            "processed matrix_question_npi_licensor_present.jsonl  |  df shape: (110000, 3)\n",
            "processed npi_present_2.jsonl  |  df shape: (112000, 3)\n",
            "processed determiner_noun_agreement_with_adj_irregular_1.jsonl  |  df shape: (114000, 3)\n",
            "processed regular_plural_subject_verb_agreement_2.jsonl  |  df shape: (116000, 3)\n",
            "processed wh_vs_that_no_gap_long_distance.jsonl  |  df shape: (118000, 3)\n",
            "processed existential_there_subject_raising.jsonl  |  df shape: (120000, 3)\n",
            "processed transitive.jsonl  |  df shape: (122000, 3)\n",
            "processed wh_questions_object_gap.jsonl  |  df shape: (124000, 3)\n",
            "processed distractor_agreement_relational_noun.jsonl  |  df shape: (126000, 3)\n",
            "processed principle_A_c_command.jsonl  |  df shape: (128000, 3)\n",
            "processed coordinate_structure_constraint_object_extraction.jsonl  |  df shape: (130000, 3)\n",
            "processed principle_A_domain_2.jsonl  |  df shape: (132000, 3)\n",
            "processed determiner_noun_agreement_2.jsonl  |  df shape: (134000, 3)\n"
          ],
          "name": "stdout"
        }
      ]
    },
    {
      "cell_type": "code",
      "metadata": {
        "id": "992clsvonSpo",
        "colab_type": "code",
        "colab": {
          "base_uri": "https://localhost:8080/",
          "height": 348
        },
        "outputId": "6022445a-3cfd-47a9-c09d-683bc4ac2f39"
      },
      "source": [
        "df.sample(10)"
      ],
      "execution_count": 39,
      "outputs": [
        {
          "output_type": "execute_result",
          "data": {
            "text/html": [
              "<div>\n",
              "<style scoped>\n",
              "    .dataframe tbody tr th:only-of-type {\n",
              "        vertical-align: middle;\n",
              "    }\n",
              "\n",
              "    .dataframe tbody tr th {\n",
              "        vertical-align: top;\n",
              "    }\n",
              "\n",
              "    .dataframe thead th {\n",
              "        text-align: right;\n",
              "    }\n",
              "</style>\n",
              "<table border=\"1\" class=\"dataframe\">\n",
              "  <thead>\n",
              "    <tr style=\"text-align: right;\">\n",
              "      <th></th>\n",
              "      <th>source_file</th>\n",
              "      <th>label</th>\n",
              "      <th>sentence</th>\n",
              "    </tr>\n",
              "  </thead>\n",
              "  <tbody>\n",
              "    <tr>\n",
              "      <th>92328</th>\n",
              "      <td>intransitive.jsonl</td>\n",
              "      <td>1</td>\n",
              "      <td>Erin's dermatologists have divorced.</td>\n",
              "    </tr>\n",
              "    <tr>\n",
              "      <th>81424</th>\n",
              "      <td>tough_vs_raising_1.jsonl</td>\n",
              "      <td>1</td>\n",
              "      <td>Ella wasn't unpleasant to boast about.</td>\n",
              "    </tr>\n",
              "    <tr>\n",
              "      <th>133876</th>\n",
              "      <td>determiner_noun_agreement_2.jsonl</td>\n",
              "      <td>1</td>\n",
              "      <td>Sally watches that actress.</td>\n",
              "    </tr>\n",
              "    <tr>\n",
              "      <th>105328</th>\n",
              "      <td>irregular_past_participle_verbs.jsonl</td>\n",
              "      <td>1</td>\n",
              "      <td>Some pepper went bad.</td>\n",
              "    </tr>\n",
              "    <tr>\n",
              "      <th>5083</th>\n",
              "      <td>ellipsis_n_bar_2.jsonl</td>\n",
              "      <td>0</td>\n",
              "      <td>Some grandsons of Adam alarms three busy ladie...</td>\n",
              "    </tr>\n",
              "    <tr>\n",
              "      <th>65486</th>\n",
              "      <td>only_npi_licensor_present.jsonl</td>\n",
              "      <td>1</td>\n",
              "      <td>Only gloves ever twisted.</td>\n",
              "    </tr>\n",
              "    <tr>\n",
              "      <th>119329</th>\n",
              "      <td>existential_there_subject_raising.jsonl</td>\n",
              "      <td>0</td>\n",
              "      <td>There aren't willing to be fewer than three so...</td>\n",
              "    </tr>\n",
              "    <tr>\n",
              "      <th>29211</th>\n",
              "      <td>left_branch_island_simple_question.jsonl</td>\n",
              "      <td>0</td>\n",
              "      <td>What had Richard biked to high schools?</td>\n",
              "    </tr>\n",
              "    <tr>\n",
              "      <th>4449</th>\n",
              "      <td>ellipsis_n_bar_2.jsonl</td>\n",
              "      <td>0</td>\n",
              "      <td>David runs around two brown cafes and Ellen ru...</td>\n",
              "    </tr>\n",
              "    <tr>\n",
              "      <th>105876</th>\n",
              "      <td>irregular_past_participle_verbs.jsonl</td>\n",
              "      <td>1</td>\n",
              "      <td>Gary knew many women.</td>\n",
              "    </tr>\n",
              "  </tbody>\n",
              "</table>\n",
              "</div>"
            ],
            "text/plain": [
              "                                     source_file  ...                                           sentence\n",
              "92328                         intransitive.jsonl  ...               Erin's dermatologists have divorced.\n",
              "81424                   tough_vs_raising_1.jsonl  ...             Ella wasn't unpleasant to boast about.\n",
              "133876         determiner_noun_agreement_2.jsonl  ...                        Sally watches that actress.\n",
              "105328     irregular_past_participle_verbs.jsonl  ...                              Some pepper went bad.\n",
              "5083                      ellipsis_n_bar_2.jsonl  ...  Some grandsons of Adam alarms three busy ladie...\n",
              "65486            only_npi_licensor_present.jsonl  ...                          Only gloves ever twisted.\n",
              "119329   existential_there_subject_raising.jsonl  ...  There aren't willing to be fewer than three so...\n",
              "29211   left_branch_island_simple_question.jsonl  ...            What had Richard biked to high schools?\n",
              "4449                      ellipsis_n_bar_2.jsonl  ...  David runs around two brown cafes and Ellen ru...\n",
              "105876     irregular_past_participle_verbs.jsonl  ...                              Gary knew many women.\n",
              "\n",
              "[10 rows x 3 columns]"
            ]
          },
          "metadata": {
            "tags": []
          },
          "execution_count": 39
        }
      ]
    },
    {
      "cell_type": "code",
      "metadata": {
        "id": "Ak44eJNsngNx",
        "colab_type": "code",
        "colab": {
          "base_uri": "https://localhost:8080/",
          "height": 35
        },
        "outputId": "5454c9da-bd47-4c55-d406-74c6722e71ef"
      },
      "source": [
        "df.shape"
      ],
      "execution_count": 40,
      "outputs": [
        {
          "output_type": "execute_result",
          "data": {
            "text/plain": [
              "(134000, 3)"
            ]
          },
          "metadata": {
            "tags": []
          },
          "execution_count": 40
        }
      ]
    },
    {
      "cell_type": "code",
      "metadata": {
        "id": "V5kJu_KxngQJ",
        "colab_type": "code",
        "colab": {}
      },
      "source": [
        "df.to_csv(path+'blimp_data/blimp_agg.csv')"
      ],
      "execution_count": 42,
      "outputs": []
    }
  ]
}