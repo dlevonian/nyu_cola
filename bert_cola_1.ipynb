{
  "nbformat": 4,
  "nbformat_minor": 0,
  "metadata": {
    "colab": {
      "name": "bert_cola_1.ipynb",
      "provenance": [],
      "collapsed_sections": [],
      "machine_shape": "hm",
      "authorship_tag": "ABX9TyO9pRb52P2142YrDOc3UTqv",
      "include_colab_link": true
    },
    "kernelspec": {
      "name": "python3",
      "display_name": "Python 3"
    },
    "accelerator": "GPU"
  },
  "cells": [
    {
      "cell_type": "markdown",
      "metadata": {
        "id": "view-in-github",
        "colab_type": "text"
      },
      "source": [
        "<a href=\"https://colab.research.google.com/github/dlevonian/nyu_cola/blob/master/bert_cola_1.ipynb\" target=\"_parent\"><img src=\"https://colab.research.google.com/assets/colab-badge.svg\" alt=\"Open In Colab\"/></a>"
      ]
    },
    {
      "cell_type": "markdown",
      "metadata": {
        "id": "E5rhPLIRhsG2",
        "colab_type": "text"
      },
      "source": [
        "### Objective"
      ]
    },
    {
      "cell_type": "markdown",
      "metadata": {
        "id": "GOFQqB2Eh7Sd",
        "colab_type": "text"
      },
      "source": [
        "Tagging the NYU's [Corpus of Linguistic Acceptability (CoLA)](https://nyu-mll.github.io/CoLA/) is one of the GLUE challenges.\n",
        "The CoLA dataset (and associated challenge) was proposed in May 2018 by [Warstadt et al.](https://arxiv.org/pdf/1805.12471.pdf) and was designed to include 3 types of violations:\n",
        "- Morphological Violation (*Maryann should leaving.)\n",
        "- Syntactic Violation (*What did Bill buy potatoes and?)\n",
        "- Semantic Violation (*Kim persuaded it to rain.)\n",
        "\n",
        "There are approximately 8.5K training samples where each sentence is tagged by a Boolean label denoting whether the sentence is grammatical or not. The challenge is evaluated on the test set of about 500 samples.\n",
        "\n",
        "This notebook applies Google's BERT to the CoLA challenge:\n",
        "- transformers have achieved [SOTA results](https://gluebenchmark.com/leaderboard) across a broad range of NLP tasks including the GLUE challenges\n",
        "- our objective is to build an end-to-end TensorFlow pipeline leveraging [TF Hub BERT collection](https://tfhub.dev/google/collections/bert/1)\n",
        "\n"
      ]
    },
    {
      "cell_type": "markdown",
      "metadata": {
        "id": "SpWq9dQPCuEu",
        "colab_type": "text"
      },
      "source": [
        "### Imports"
      ]
    },
    {
      "cell_type": "code",
      "metadata": {
        "id": "dKlK6UDlOUUD",
        "colab_type": "code",
        "colab": {
          "base_uri": "https://localhost:8080/",
          "height": 987
        },
        "outputId": "8096767b-0cb1-4b6b-bfc0-56086ca392dd"
      },
      "source": [
        "# make sure nightly builds are installed to use official.nlp modules\n",
        "!pip install tf-nightly\n",
        "!pip install -q tf-models-nightly"
      ],
      "execution_count": 1,
      "outputs": [
        {
          "output_type": "stream",
          "text": [
            "Collecting tf-nightly\n",
            "\u001b[?25l  Downloading https://files.pythonhosted.org/packages/ec/09/686d9875dca814be21cdb8b109aea5bc7a0161febb2adf1f36280ed55b1c/tf_nightly-2.4.0.dev20200726-cp36-cp36m-manylinux2010_x86_64.whl (324.8MB)\n",
            "\u001b[K     |████████████████████████████████| 324.8MB 42kB/s \n",
            "\u001b[?25hCollecting flatbuffers>=1.12\n",
            "  Downloading https://files.pythonhosted.org/packages/eb/26/712e578c5f14e26ae3314c39a1bdc4eb2ec2f4ddc89b708cf8e0a0d20423/flatbuffers-1.12-py2.py3-none-any.whl\n",
            "Requirement already satisfied: termcolor>=1.1.0 in /usr/local/lib/python3.6/dist-packages (from tf-nightly) (1.1.0)\n",
            "Requirement already satisfied: opt-einsum>=2.3.2 in /usr/local/lib/python3.6/dist-packages (from tf-nightly) (3.3.0)\n",
            "Collecting tf-estimator-nightly\n",
            "\u001b[?25l  Downloading https://files.pythonhosted.org/packages/62/38/4f35244da59877385ae922de9ee39237d89379bf660b3db9a03ae2bf9466/tf_estimator_nightly-2.4.0.dev2020072601-py2.py3-none-any.whl (459kB)\n",
            "\u001b[K     |████████████████████████████████| 460kB 53.6MB/s \n",
            "\u001b[?25hRequirement already satisfied: absl-py>=0.7.0 in /usr/local/lib/python3.6/dist-packages (from tf-nightly) (0.9.0)\n",
            "Requirement already satisfied: six>=1.12.0 in /usr/local/lib/python3.6/dist-packages (from tf-nightly) (1.15.0)\n",
            "Requirement already satisfied: grpcio>=1.8.6 in /usr/local/lib/python3.6/dist-packages (from tf-nightly) (1.30.0)\n",
            "Requirement already satisfied: keras-preprocessing<1.2,>=1.1.1 in /usr/local/lib/python3.6/dist-packages (from tf-nightly) (1.1.2)\n",
            "Requirement already satisfied: h5py<2.11.0,>=2.10.0 in /usr/local/lib/python3.6/dist-packages (from tf-nightly) (2.10.0)\n",
            "Requirement already satisfied: gast==0.3.3 in /usr/local/lib/python3.6/dist-packages (from tf-nightly) (0.3.3)\n",
            "Collecting tb-nightly<3.0.0a0,>=2.4.0a0\n",
            "\u001b[?25l  Downloading https://files.pythonhosted.org/packages/92/d1/ee270a816bba0338cf5f3062631a2a317560368aef34d82488f1418c6929/tb_nightly-2.4.0a20200726-py3-none-any.whl (6.7MB)\n",
            "\u001b[K     |████████████████████████████████| 6.7MB 53.9MB/s \n",
            "\u001b[?25hRequirement already satisfied: wheel>=0.26 in /usr/local/lib/python3.6/dist-packages (from tf-nightly) (0.34.2)\n",
            "Requirement already satisfied: wrapt>=1.11.1 in /usr/local/lib/python3.6/dist-packages (from tf-nightly) (1.12.1)\n",
            "Requirement already satisfied: numpy<1.19.0,>=1.16.0 in /usr/local/lib/python3.6/dist-packages (from tf-nightly) (1.18.5)\n",
            "Requirement already satisfied: google-pasta>=0.1.8 in /usr/local/lib/python3.6/dist-packages (from tf-nightly) (0.2.0)\n",
            "Requirement already satisfied: protobuf>=3.9.2 in /usr/local/lib/python3.6/dist-packages (from tf-nightly) (3.12.2)\n",
            "Requirement already satisfied: astunparse==1.6.3 in /usr/local/lib/python3.6/dist-packages (from tf-nightly) (1.6.3)\n",
            "Requirement already satisfied: google-auth<2,>=1.6.3 in /usr/local/lib/python3.6/dist-packages (from tb-nightly<3.0.0a0,>=2.4.0a0->tf-nightly) (1.17.2)\n",
            "Requirement already satisfied: werkzeug>=0.11.15 in /usr/local/lib/python3.6/dist-packages (from tb-nightly<3.0.0a0,>=2.4.0a0->tf-nightly) (1.0.1)\n",
            "Requirement already satisfied: markdown>=2.6.8 in /usr/local/lib/python3.6/dist-packages (from tb-nightly<3.0.0a0,>=2.4.0a0->tf-nightly) (3.2.2)\n",
            "Requirement already satisfied: requests<3,>=2.21.0 in /usr/local/lib/python3.6/dist-packages (from tb-nightly<3.0.0a0,>=2.4.0a0->tf-nightly) (2.23.0)\n",
            "Requirement already satisfied: setuptools>=41.0.0 in /usr/local/lib/python3.6/dist-packages (from tb-nightly<3.0.0a0,>=2.4.0a0->tf-nightly) (49.1.0)\n",
            "Requirement already satisfied: tensorboard-plugin-wit>=1.6.0 in /usr/local/lib/python3.6/dist-packages (from tb-nightly<3.0.0a0,>=2.4.0a0->tf-nightly) (1.7.0)\n",
            "Requirement already satisfied: google-auth-oauthlib<0.5,>=0.4.1 in /usr/local/lib/python3.6/dist-packages (from tb-nightly<3.0.0a0,>=2.4.0a0->tf-nightly) (0.4.1)\n",
            "Requirement already satisfied: pyasn1-modules>=0.2.1 in /usr/local/lib/python3.6/dist-packages (from google-auth<2,>=1.6.3->tb-nightly<3.0.0a0,>=2.4.0a0->tf-nightly) (0.2.8)\n",
            "Requirement already satisfied: cachetools<5.0,>=2.0.0 in /usr/local/lib/python3.6/dist-packages (from google-auth<2,>=1.6.3->tb-nightly<3.0.0a0,>=2.4.0a0->tf-nightly) (4.1.1)\n",
            "Requirement already satisfied: rsa<5,>=3.1.4; python_version >= \"3\" in /usr/local/lib/python3.6/dist-packages (from google-auth<2,>=1.6.3->tb-nightly<3.0.0a0,>=2.4.0a0->tf-nightly) (4.6)\n",
            "Requirement already satisfied: importlib-metadata; python_version < \"3.8\" in /usr/local/lib/python3.6/dist-packages (from markdown>=2.6.8->tb-nightly<3.0.0a0,>=2.4.0a0->tf-nightly) (1.7.0)\n",
            "Requirement already satisfied: chardet<4,>=3.0.2 in /usr/local/lib/python3.6/dist-packages (from requests<3,>=2.21.0->tb-nightly<3.0.0a0,>=2.4.0a0->tf-nightly) (3.0.4)\n",
            "Requirement already satisfied: urllib3!=1.25.0,!=1.25.1,<1.26,>=1.21.1 in /usr/local/lib/python3.6/dist-packages (from requests<3,>=2.21.0->tb-nightly<3.0.0a0,>=2.4.0a0->tf-nightly) (1.24.3)\n",
            "Requirement already satisfied: idna<3,>=2.5 in /usr/local/lib/python3.6/dist-packages (from requests<3,>=2.21.0->tb-nightly<3.0.0a0,>=2.4.0a0->tf-nightly) (2.10)\n",
            "Requirement already satisfied: certifi>=2017.4.17 in /usr/local/lib/python3.6/dist-packages (from requests<3,>=2.21.0->tb-nightly<3.0.0a0,>=2.4.0a0->tf-nightly) (2020.6.20)\n",
            "Requirement already satisfied: requests-oauthlib>=0.7.0 in /usr/local/lib/python3.6/dist-packages (from google-auth-oauthlib<0.5,>=0.4.1->tb-nightly<3.0.0a0,>=2.4.0a0->tf-nightly) (1.3.0)\n",
            "Requirement already satisfied: pyasn1<0.5.0,>=0.4.6 in /usr/local/lib/python3.6/dist-packages (from pyasn1-modules>=0.2.1->google-auth<2,>=1.6.3->tb-nightly<3.0.0a0,>=2.4.0a0->tf-nightly) (0.4.8)\n",
            "Requirement already satisfied: zipp>=0.5 in /usr/local/lib/python3.6/dist-packages (from importlib-metadata; python_version < \"3.8\"->markdown>=2.6.8->tb-nightly<3.0.0a0,>=2.4.0a0->tf-nightly) (3.1.0)\n",
            "Requirement already satisfied: oauthlib>=3.0.0 in /usr/local/lib/python3.6/dist-packages (from requests-oauthlib>=0.7.0->google-auth-oauthlib<0.5,>=0.4.1->tb-nightly<3.0.0a0,>=2.4.0a0->tf-nightly) (3.1.0)\n",
            "Installing collected packages: flatbuffers, tf-estimator-nightly, tb-nightly, tf-nightly\n",
            "Successfully installed flatbuffers-1.12 tb-nightly-2.4.0a20200726 tf-estimator-nightly-2.4.0.dev2020072601 tf-nightly-2.4.0.dev20200726\n",
            "\u001b[K     |████████████████████████████████| 880kB 5.2MB/s \n",
            "\u001b[K     |████████████████████████████████| 358kB 31.0MB/s \n",
            "\u001b[K     |████████████████████████████████| 174kB 22.6MB/s \n",
            "\u001b[K     |████████████████████████████████| 1.1MB 36.6MB/s \n",
            "\u001b[K     |████████████████████████████████| 102kB 13.5MB/s \n",
            "\u001b[K     |████████████████████████████████| 36.4MB 82kB/s \n",
            "\u001b[K     |████████████████████████████████| 296kB 56.4MB/s \n",
            "\u001b[?25h  Building wheel for py-cpuinfo (setup.py) ... \u001b[?25l\u001b[?25hdone\n",
            "  Building wheel for seqeval (setup.py) ... \u001b[?25l\u001b[?25hdone\n"
          ],
          "name": "stdout"
        }
      ]
    },
    {
      "cell_type": "code",
      "metadata": {
        "id": "S5YbTHSaH9q3",
        "colab_type": "code",
        "colab": {}
      },
      "source": [
        "import numpy as np\n",
        "import pandas as pd\n",
        "\n",
        "import math\n",
        "import time\n",
        "\n",
        "import matplotlib.pyplot as plt\n",
        "import seaborn as sns\n",
        "plt.style.use('ggplot')"
      ],
      "execution_count": 3,
      "outputs": []
    },
    {
      "cell_type": "code",
      "metadata": {
        "id": "bbwLHMy9NGJS",
        "colab_type": "code",
        "colab": {
          "base_uri": "https://localhost:8080/",
          "height": 69
        },
        "outputId": "5e195c94-8567-4544-d93b-f4dbd20ba7bc"
      },
      "source": [
        "import tensorflow as tf\n",
        "import tensorflow_hub as hub\n",
        "# %load_ext tensorboard\n",
        "\n",
        "from tensorflow import keras\n",
        "from tensorflow.keras.preprocessing.sequence import pad_sequences\n",
        "\n",
        "import official.nlp.bert.tokenization as tokenization\n",
        "import official.nlp.optimization as optimization\n",
        "\n",
        "print(\"TF version: \", tf.__version__)\n",
        "print(\"Hub version: \", hub.__version__)\n",
        "print('GPU is available' if tf.config.experimental.list_physical_devices('GPU') else 'CPU')"
      ],
      "execution_count": 4,
      "outputs": [
        {
          "output_type": "stream",
          "text": [
            "TF version:  2.4.0-dev20200726\n",
            "Hub version:  0.8.0\n",
            "GPU is available\n"
          ],
          "name": "stdout"
        }
      ]
    },
    {
      "cell_type": "code",
      "metadata": {
        "id": "d1xzNyu5Sf5n",
        "colab_type": "code",
        "colab": {
          "base_uri": "https://localhost:8080/",
          "height": 35
        },
        "outputId": "878460e9-d700-4514-8438-418a5c56cd92"
      },
      "source": [
        "from google.colab import drive\n",
        "drive.mount('/content/drive', force_remount=True)\n",
        "path = '/content/drive/My Drive/chatbot/'"
      ],
      "execution_count": 7,
      "outputs": [
        {
          "output_type": "stream",
          "text": [
            "Mounted at /content/drive\n"
          ],
          "name": "stdout"
        }
      ]
    },
    {
      "cell_type": "markdown",
      "metadata": {
        "id": "RMofxb1wVJUf",
        "colab_type": "text"
      },
      "source": [
        "### Load NYU CoLA dataset"
      ]
    },
    {
      "cell_type": "code",
      "metadata": {
        "id": "KhU822Yoi5kc",
        "colab_type": "code",
        "colab": {
          "base_uri": "https://localhost:8080/",
          "height": 233
        },
        "outputId": "2166e912-d949-4d3c-9a30-c394a4deaabf"
      },
      "source": [
        "train_df = pd.read_csv(path+'cola_data/in_domain_train.tsv',sep=\"\\t\", header=None)\n",
        "print(train_df.shape)\n",
        "print(train_df.iloc[:,1].mean())\n",
        "train_df.sample(5)"
      ],
      "execution_count": 8,
      "outputs": [
        {
          "output_type": "stream",
          "text": [
            "(8551, 4)\n",
            "0.704362062916618\n"
          ],
          "name": "stdout"
        },
        {
          "output_type": "execute_result",
          "data": {
            "text/html": [
              "<div>\n",
              "<style scoped>\n",
              "    .dataframe tbody tr th:only-of-type {\n",
              "        vertical-align: middle;\n",
              "    }\n",
              "\n",
              "    .dataframe tbody tr th {\n",
              "        vertical-align: top;\n",
              "    }\n",
              "\n",
              "    .dataframe thead th {\n",
              "        text-align: right;\n",
              "    }\n",
              "</style>\n",
              "<table border=\"1\" class=\"dataframe\">\n",
              "  <thead>\n",
              "    <tr style=\"text-align: right;\">\n",
              "      <th></th>\n",
              "      <th>0</th>\n",
              "      <th>1</th>\n",
              "      <th>2</th>\n",
              "      <th>3</th>\n",
              "    </tr>\n",
              "  </thead>\n",
              "  <tbody>\n",
              "    <tr>\n",
              "      <th>7636</th>\n",
              "      <td>sks13</td>\n",
              "      <td>1</td>\n",
              "      <td>NaN</td>\n",
              "      <td>Susan hopes to sleep.</td>\n",
              "    </tr>\n",
              "    <tr>\n",
              "      <th>5905</th>\n",
              "      <td>c_13</td>\n",
              "      <td>1</td>\n",
              "      <td>NaN</td>\n",
              "      <td>That Bill loves chocolate is likely.</td>\n",
              "    </tr>\n",
              "    <tr>\n",
              "      <th>1327</th>\n",
              "      <td>r-67</td>\n",
              "      <td>1</td>\n",
              "      <td>NaN</td>\n",
              "      <td>Please make yourself comfortable and I'll wash...</td>\n",
              "    </tr>\n",
              "    <tr>\n",
              "      <th>4572</th>\n",
              "      <td>ks08</td>\n",
              "      <td>0</td>\n",
              "      <td>*</td>\n",
              "      <td>John seems fond of ice cream, and Bill seems, ...</td>\n",
              "    </tr>\n",
              "    <tr>\n",
              "      <th>4983</th>\n",
              "      <td>ks08</td>\n",
              "      <td>1</td>\n",
              "      <td>NaN</td>\n",
              "      <td>We just finished the final exam the result of ...</td>\n",
              "    </tr>\n",
              "  </tbody>\n",
              "</table>\n",
              "</div>"
            ],
            "text/plain": [
              "          0  1    2                                                  3\n",
              "7636  sks13  1  NaN                              Susan hopes to sleep.\n",
              "5905   c_13  1  NaN               That Bill loves chocolate is likely.\n",
              "1327   r-67  1  NaN  Please make yourself comfortable and I'll wash...\n",
              "4572   ks08  0    *  John seems fond of ice cream, and Bill seems, ...\n",
              "4983   ks08  1  NaN  We just finished the final exam the result of ..."
            ]
          },
          "metadata": {
            "tags": []
          },
          "execution_count": 8
        }
      ]
    },
    {
      "cell_type": "code",
      "metadata": {
        "id": "TWsPIKDsj8-q",
        "colab_type": "code",
        "colab": {
          "base_uri": "https://localhost:8080/",
          "height": 233
        },
        "outputId": "e967f273-f8f5-43eb-e510-b64195a58d8a"
      },
      "source": [
        "val_df = pd.read_csv(path+'cola_data/in_domain_dev.tsv',sep=\"\\t\", header=None)\n",
        "print(val_df.shape)\n",
        "print(val_df.iloc[:,1].mean())\n",
        "val_df.sample(5)"
      ],
      "execution_count": 9,
      "outputs": [
        {
          "output_type": "stream",
          "text": [
            "(527, 4)\n",
            "0.6925996204933587\n"
          ],
          "name": "stdout"
        },
        {
          "output_type": "execute_result",
          "data": {
            "text/html": [
              "<div>\n",
              "<style scoped>\n",
              "    .dataframe tbody tr th:only-of-type {\n",
              "        vertical-align: middle;\n",
              "    }\n",
              "\n",
              "    .dataframe tbody tr th {\n",
              "        vertical-align: top;\n",
              "    }\n",
              "\n",
              "    .dataframe thead th {\n",
              "        text-align: right;\n",
              "    }\n",
              "</style>\n",
              "<table border=\"1\" class=\"dataframe\">\n",
              "  <thead>\n",
              "    <tr style=\"text-align: right;\">\n",
              "      <th></th>\n",
              "      <th>0</th>\n",
              "      <th>1</th>\n",
              "      <th>2</th>\n",
              "      <th>3</th>\n",
              "    </tr>\n",
              "  </thead>\n",
              "  <tbody>\n",
              "    <tr>\n",
              "      <th>109</th>\n",
              "      <td>r-67</td>\n",
              "      <td>1</td>\n",
              "      <td>NaN</td>\n",
              "      <td>Sally is tall, and may be blond, and Sheila is...</td>\n",
              "    </tr>\n",
              "    <tr>\n",
              "      <th>504</th>\n",
              "      <td>ad03</td>\n",
              "      <td>0</td>\n",
              "      <td>*</td>\n",
              "      <td>I thought he liked myself</td>\n",
              "    </tr>\n",
              "    <tr>\n",
              "      <th>411</th>\n",
              "      <td>m_02</td>\n",
              "      <td>1</td>\n",
              "      <td>NaN</td>\n",
              "      <td>He left the train with somebody else's wallet ...</td>\n",
              "    </tr>\n",
              "    <tr>\n",
              "      <th>48</th>\n",
              "      <td>bc01</td>\n",
              "      <td>1</td>\n",
              "      <td>NaN</td>\n",
              "      <td>I remembered having kissed Mary.</td>\n",
              "    </tr>\n",
              "    <tr>\n",
              "      <th>198</th>\n",
              "      <td>l-93</td>\n",
              "      <td>1</td>\n",
              "      <td>NaN</td>\n",
              "      <td>Cynthia nibbled on the carrot .</td>\n",
              "    </tr>\n",
              "  </tbody>\n",
              "</table>\n",
              "</div>"
            ],
            "text/plain": [
              "        0  1    2                                                  3\n",
              "109  r-67  1  NaN  Sally is tall, and may be blond, and Sheila is...\n",
              "504  ad03  0    *                          I thought he liked myself\n",
              "411  m_02  1  NaN  He left the train with somebody else's wallet ...\n",
              "48   bc01  1  NaN                   I remembered having kissed Mary.\n",
              "198  l-93  1  NaN                    Cynthia nibbled on the carrot ."
            ]
          },
          "metadata": {
            "tags": []
          },
          "execution_count": 9
        }
      ]
    },
    {
      "cell_type": "code",
      "metadata": {
        "id": "OI5JCRLJXe-i",
        "colab_type": "code",
        "colab": {
          "base_uri": "https://localhost:8080/",
          "height": 245
        },
        "outputId": "e76ef613-3937-4b34-f325-6f1a1de5457c"
      },
      "source": [
        "test_df = pd.read_csv(path+'cola_data/kaggle_in_domain_test.tsv',sep=\"\\t\", index_col='Id')\n",
        "print(test_df.shape)\n",
        "test_df.sample(5)"
      ],
      "execution_count": 10,
      "outputs": [
        {
          "output_type": "stream",
          "text": [
            "(530, 1)\n"
          ],
          "name": "stdout"
        },
        {
          "output_type": "execute_result",
          "data": {
            "text/html": [
              "<div>\n",
              "<style scoped>\n",
              "    .dataframe tbody tr th:only-of-type {\n",
              "        vertical-align: middle;\n",
              "    }\n",
              "\n",
              "    .dataframe tbody tr th {\n",
              "        vertical-align: top;\n",
              "    }\n",
              "\n",
              "    .dataframe thead th {\n",
              "        text-align: right;\n",
              "    }\n",
              "</style>\n",
              "<table border=\"1\" class=\"dataframe\">\n",
              "  <thead>\n",
              "    <tr style=\"text-align: right;\">\n",
              "      <th></th>\n",
              "      <th>Sentence</th>\n",
              "    </tr>\n",
              "    <tr>\n",
              "      <th>Id</th>\n",
              "      <th></th>\n",
              "    </tr>\n",
              "  </thead>\n",
              "  <tbody>\n",
              "    <tr>\n",
              "      <th>473</th>\n",
              "      <td>John liked Mary.</td>\n",
              "    </tr>\n",
              "    <tr>\n",
              "      <th>276</th>\n",
              "      <td>There seem to be no student absent.</td>\n",
              "    </tr>\n",
              "    <tr>\n",
              "      <th>150</th>\n",
              "      <td>This meat cuts itself.</td>\n",
              "    </tr>\n",
              "    <tr>\n",
              "      <th>470</th>\n",
              "      <td>Does John go to school?</td>\n",
              "    </tr>\n",
              "    <tr>\n",
              "      <th>115</th>\n",
              "      <td>The cops spoke to the janitor about that robbe...</td>\n",
              "    </tr>\n",
              "  </tbody>\n",
              "</table>\n",
              "</div>"
            ],
            "text/plain": [
              "                                              Sentence\n",
              "Id                                                    \n",
              "473                                   John liked Mary.\n",
              "276                There seem to be no student absent.\n",
              "150                             This meat cuts itself.\n",
              "470                            Does John go to school?\n",
              "115  The cops spoke to the janitor about that robbe..."
            ]
          },
          "metadata": {
            "tags": []
          },
          "execution_count": 10
        }
      ]
    },
    {
      "cell_type": "code",
      "metadata": {
        "id": "Ffyz2aeRElfg",
        "colab_type": "code",
        "colab": {}
      },
      "source": [
        ""
      ],
      "execution_count": 10,
      "outputs": []
    },
    {
      "cell_type": "markdown",
      "metadata": {
        "id": "zcBPy7dfC1Bs",
        "colab_type": "text"
      },
      "source": [
        "### Load BERT from TF Hub"
      ]
    },
    {
      "cell_type": "markdown",
      "metadata": {
        "id": "QdiKYBLdwHJU",
        "colab_type": "text"
      },
      "source": [
        "Use the light BERT (~400 Mb):  [bert_en_uncased_L-12_H-768_A-*12*](https://tfhub.dev/tensorflow/bert_en_uncased_L-12_H-768_A-12/2)\n",
        "\n"
      ]
    },
    {
      "cell_type": "code",
      "metadata": {
        "id": "Xn2EpU2r3sYZ",
        "colab_type": "code",
        "colab": {
          "base_uri": "https://localhost:8080/",
          "height": 35
        },
        "outputId": "dec106e5-11c5-4a87-be47-2c58503197a7"
      },
      "source": [
        "tic = time.time()\n",
        "bert_layer = hub.KerasLayer(\"https://tfhub.dev/tensorflow/bert_en_uncased_L-12_H-768_A-12/2\",  \n",
        "                            name = 'bert_layer',\n",
        "                            trainable=True)\n",
        "toc = time.time()\n",
        "print(f'done in {toc-tic:.1f} sec')"
      ],
      "execution_count": 11,
      "outputs": [
        {
          "output_type": "stream",
          "text": [
            "done in 10.6 sec\n"
          ],
          "name": "stdout"
        }
      ]
    },
    {
      "cell_type": "code",
      "metadata": {
        "id": "9pIBbmaXDCyj",
        "colab_type": "code",
        "colab": {
          "base_uri": "https://localhost:8080/",
          "height": 86
        },
        "outputId": "3534a423-ac4a-404b-d8d5-9c67b39b3153"
      },
      "source": [
        "bert_layer.get_config()"
      ],
      "execution_count": 12,
      "outputs": [
        {
          "output_type": "execute_result",
          "data": {
            "text/plain": [
              "{'dtype': 'float32',\n",
              " 'handle': 'https://tfhub.dev/tensorflow/bert_en_uncased_L-12_H-768_A-12/2',\n",
              " 'name': 'bert_layer',\n",
              " 'trainable': True}"
            ]
          },
          "metadata": {
            "tags": []
          },
          "execution_count": 12
        }
      ]
    },
    {
      "cell_type": "markdown",
      "metadata": {
        "id": "WZXcDzYmSs3V",
        "colab_type": "text"
      },
      "source": [
        "BERT produces two outputs: \n",
        "- a pooled_output of shape [batch_size, 768] with representations for the entire input sequences \n",
        "- a sequence_output of shape [batch_size, max_seq_length, 768] with representations for each input token (in context)"
      ]
    },
    {
      "cell_type": "code",
      "metadata": {
        "id": "wR3nzieKkdu2",
        "colab_type": "code",
        "colab": {}
      },
      "source": [
        "# dir(bert_layer)"
      ],
      "execution_count": 13,
      "outputs": []
    },
    {
      "cell_type": "markdown",
      "metadata": {
        "id": "NA29LjxclfbU",
        "colab_type": "text"
      },
      "source": [
        "### Tokenization"
      ]
    },
    {
      "cell_type": "code",
      "metadata": {
        "id": "N5yEREftlfeH",
        "colab_type": "code",
        "colab": {}
      },
      "source": [
        "vocab_file = bert_layer.resolved_object.vocab_file.asset_path.numpy()\n",
        "do_lower_case = bert_layer.resolved_object.do_lower_case.numpy()\n",
        "\n",
        "tokenizer = tokenization.FullTokenizer(vocab_file, do_lower_case)\n",
        "# dir(tokenizer)"
      ],
      "execution_count": 14,
      "outputs": []
    },
    {
      "cell_type": "code",
      "metadata": {
        "id": "lIL2odCPHKgq",
        "colab_type": "code",
        "colab": {
          "base_uri": "https://localhost:8080/",
          "height": 52
        },
        "outputId": "e235c07e-761f-4705-822a-6f6d3311e0b4"
      },
      "source": [
        "s = 'Implement CoLA classification with fine-tuning BERT'\n",
        "tokens = tokenizer.tokenize(s)\n",
        "print(tokens)\n",
        "ids = tokenizer.convert_tokens_to_ids(tokens)\n",
        "print(ids)\n"
      ],
      "execution_count": 15,
      "outputs": [
        {
          "output_type": "stream",
          "text": [
            "['implement', 'cola', 'classification', 'with', 'fine', '-', 'tuning', 'bert']\n",
            "[10408, 15270, 5579, 2007, 2986, 1011, 17372, 14324]\n"
          ],
          "name": "stdout"
        }
      ]
    },
    {
      "cell_type": "code",
      "metadata": {
        "id": "VZNZAv1NPmzj",
        "colab_type": "code",
        "colab": {}
      },
      "source": [
        "def encode_sentence(s):\n",
        "    # any input sequence in BERT must start with [CLS] token\n",
        "    # the first sentence (whether in pairs or standalone) must end with [SEP]\n",
        "    return (tokenizer.convert_tokens_to_ids(['[CLS]']) + \n",
        "            tokenizer.convert_tokens_to_ids(tokenizer.tokenize(s)) + \n",
        "            tokenizer.convert_tokens_to_ids(['[SEP]']))"
      ],
      "execution_count": 16,
      "outputs": []
    },
    {
      "cell_type": "code",
      "metadata": {
        "id": "ivUwPE2yHKQJ",
        "colab_type": "code",
        "colab": {
          "base_uri": "https://localhost:8080/",
          "height": 69
        },
        "outputId": "4e3c9990-22e8-4d67-c95a-6196da2ed3e1"
      },
      "source": [
        "def produce_ids(df):\n",
        "    ids=[]\n",
        "    for s in df.iloc[:,-1]:\n",
        "        ids.append(encode_sentence(s))\n",
        "    return ids\n",
        "\n",
        "train_ids, val_ids, test_ids = map(produce_ids, [train_df, val_df, test_df])    \n",
        "\n",
        "print(f'max len train =', max(map(len, train_ids)))\n",
        "print(f'max len val =', max(map(len, val_ids)))\n",
        "print(f'max len test =', max(map(len, test_ids)))"
      ],
      "execution_count": 17,
      "outputs": [
        {
          "output_type": "stream",
          "text": [
            "max len train = 47\n",
            "max len val = 31\n",
            "max len test = 38\n"
          ],
          "name": "stdout"
        }
      ]
    },
    {
      "cell_type": "code",
      "metadata": {
        "id": "OkMkIq6jVWN2",
        "colab_type": "code",
        "colab": {
          "base_uri": "https://localhost:8080/",
          "height": 267
        },
        "outputId": "6020cf54-5b54-42fe-8297-2faf5dafd66a"
      },
      "source": [
        "plt.hist(list(map(len, train_ids)),bins=40)\n",
        "plt.show()"
      ],
      "execution_count": 18,
      "outputs": [
        {
          "output_type": "display_data",
          "data": {
            "image/png": "[encoded data removed]",
            "text/plain": [
              "<Figure size 432x288 with 1 Axes>"
            ]
          },
          "metadata": {
            "tags": []
          }
        }
      ]
    },
    {
      "cell_type": "code",
      "metadata": {
        "id": "PPDmXWayVWSu",
        "colab_type": "code",
        "colab": {
          "base_uri": "https://localhost:8080/",
          "height": 225
        },
        "outputId": "1e01f1af-0ca4-44f2-af95-1a3f3eab744c"
      },
      "source": [
        "# Pad zeros to MAX_LEN\n",
        "MAX_LEN = 47\n",
        "pad_fn = lambda ids: pad_sequences(ids, maxlen=MAX_LEN, dtype=\"long\", value=0, padding=\"post\")\n",
        "train_ids, val_ids, test_ids = map(pad_fn, [train_ids, val_ids, test_ids])\n",
        "\n",
        "train_ids[:2]"
      ],
      "execution_count": 19,
      "outputs": [
        {
          "output_type": "execute_result",
          "data": {
            "text/plain": [
              "array([[  101,  2256,  2814,  2180,  1005,  1056,  4965,  2023,  4106,\n",
              "         1010,  2292,  2894,  1996,  2279,  2028,  2057, 16599,  1012,\n",
              "          102,     0,     0,     0,     0,     0,     0,     0,     0,\n",
              "            0,     0,     0,     0,     0,     0,     0,     0,     0,\n",
              "            0,     0,     0,     0,     0,     0,     0,     0,     0,\n",
              "            0,     0],\n",
              "       [  101,  2028,  2062, 18404,  2236,  3989,  1998,  1045,  1005,\n",
              "         1049,  3228,  2039,  1012,   102,     0,     0,     0,     0,\n",
              "            0,     0,     0,     0,     0,     0,     0,     0,     0,\n",
              "            0,     0,     0,     0,     0,     0,     0,     0,     0,\n",
              "            0,     0,     0,     0,     0,     0,     0,     0,     0,\n",
              "            0,     0]])"
            ]
          },
          "metadata": {
            "tags": []
          },
          "execution_count": 19
        }
      ]
    },
    {
      "cell_type": "code",
      "metadata": {
        "id": "Zv6oMH3PgBIQ",
        "colab_type": "code",
        "colab": {
          "base_uri": "https://localhost:8080/",
          "height": 121
        },
        "outputId": "9209f2af-a36a-4cb1-fd16-a75899806535"
      },
      "source": [
        "# Produce BERT input masks indicating relevant tokens \n",
        "mask_fn = np.vectorize(lambda arr: int(arr>0))\n",
        "train_mask, val_mask, test_mask = map(mask_fn, [train_ids, val_ids, test_ids])\n",
        "\n",
        "train_mask[:2]"
      ],
      "execution_count": 20,
      "outputs": [
        {
          "output_type": "execute_result",
          "data": {
            "text/plain": [
              "array([[1, 1, 1, 1, 1, 1, 1, 1, 1, 1, 1, 1, 1, 1, 1, 1, 1, 1, 1, 0, 0, 0,\n",
              "        0, 0, 0, 0, 0, 0, 0, 0, 0, 0, 0, 0, 0, 0, 0, 0, 0, 0, 0, 0, 0, 0,\n",
              "        0, 0, 0],\n",
              "       [1, 1, 1, 1, 1, 1, 1, 1, 1, 1, 1, 1, 1, 1, 0, 0, 0, 0, 0, 0, 0, 0,\n",
              "        0, 0, 0, 0, 0, 0, 0, 0, 0, 0, 0, 0, 0, 0, 0, 0, 0, 0, 0, 0, 0, 0,\n",
              "        0, 0, 0]])"
            ]
          },
          "metadata": {
            "tags": []
          },
          "execution_count": 20
        }
      ]
    },
    {
      "cell_type": "markdown",
      "metadata": {
        "id": "mJcRQkCKTUr6",
        "colab_type": "text"
      },
      "source": [
        "### Produce Datasets"
      ]
    },
    {
      "cell_type": "code",
      "metadata": {
        "id": "5Ki5KQlKgl7u",
        "colab_type": "code",
        "colab": {}
      },
      "source": [
        "# put everything together in one function, produce shuffled, batched TF dataset\n",
        "\n",
        "BATCH_SIZE=128\n",
        "\n",
        "def bert_dataset(df, max_len=MAX_LEN, batch_size=BATCH_SIZE):\n",
        "    \"\"\"\n",
        "    Produce TF dataset from the input dataframe\n",
        "    The convention for the input df is that labels are in column 1, text in column -1\n",
        "    \"\"\"\n",
        "    input_word_ids=[]\n",
        "    for sentence in df.iloc[:,-1]:\n",
        "        input_word_ids.append(encode_sentence(sentence))\n",
        "    input_word_ids = pad_sequences(input_word_ids, maxlen=max_len, dtype=\"long\", value=0, padding=\"post\")\n",
        "\n",
        "    input_mask = np.vectorize(lambda arr: int(arr>0))(input_word_ids)\n",
        "    # BERT needs the 'segment ids' element. For single-sentence tasks such as classification, supply zeros.\n",
        "    input_segment_ids = np.zeros_like(input_mask)\n",
        "\n",
        "    inputs = (input_word_ids, input_mask, input_segment_ids)\n",
        "\n",
        "    labels = df.iloc[:,1].values\n",
        "\n",
        "    dataset = tf.data.Dataset.from_tensor_slices((inputs, labels))\n",
        "    dataset = dataset.shuffle(1024).batch(batch_size) \n",
        "    dataset = dataset.cache()\n",
        "    dataset = dataset.prefetch(tf.data.experimental.AUTOTUNE)\n",
        "    \n",
        "    return dataset"
      ],
      "execution_count": 21,
      "outputs": []
    },
    {
      "cell_type": "code",
      "metadata": {
        "id": "n5WKYdGyTgXa",
        "colab_type": "code",
        "colab": {
          "base_uri": "https://localhost:8080/",
          "height": 590
        },
        "outputId": "8bea41f8-6f1a-4b9b-e16b-1bdcf7a80e4a"
      },
      "source": [
        "train_dataset = bert_dataset(train_df)\n",
        "val_dataset   = bert_dataset(val_df)\n",
        "\n",
        "# verify the dataset element\n",
        "print(train_dataset.element_spec )\n",
        "next(iter(train_dataset))\n"
      ],
      "execution_count": 22,
      "outputs": [
        {
          "output_type": "stream",
          "text": [
            "((TensorSpec(shape=(None, 47), dtype=tf.int64, name=None), TensorSpec(shape=(None, 47), dtype=tf.int64, name=None), TensorSpec(shape=(None, 47), dtype=tf.int64, name=None)), TensorSpec(shape=(None,), dtype=tf.int64, name=None))\n"
          ],
          "name": "stdout"
        },
        {
          "output_type": "execute_result",
          "data": {
            "text/plain": [
              "((<tf.Tensor: shape=(128, 47), dtype=int64, numpy=\n",
              "  array([[ 101, 2023, 2311, ...,    0,    0,    0],\n",
              "         [ 101, 2984, 2187, ...,    0,    0,    0],\n",
              "         [ 101, 2065, 2002, ...,    0,    0,    0],\n",
              "         ...,\n",
              "         [ 101, 2023, 2003, ...,    0,    0,    0],\n",
              "         [ 101, 3071, 2040, ...,    0,    0,    0],\n",
              "         [ 101, 2054, 2079, ...,    0,    0,    0]])>,\n",
              "  <tf.Tensor: shape=(128, 47), dtype=int64, numpy=\n",
              "  array([[1, 1, 1, ..., 0, 0, 0],\n",
              "         [1, 1, 1, ..., 0, 0, 0],\n",
              "         [1, 1, 1, ..., 0, 0, 0],\n",
              "         ...,\n",
              "         [1, 1, 1, ..., 0, 0, 0],\n",
              "         [1, 1, 1, ..., 0, 0, 0],\n",
              "         [1, 1, 1, ..., 0, 0, 0]])>,\n",
              "  <tf.Tensor: shape=(128, 47), dtype=int64, numpy=\n",
              "  array([[0, 0, 0, ..., 0, 0, 0],\n",
              "         [0, 0, 0, ..., 0, 0, 0],\n",
              "         [0, 0, 0, ..., 0, 0, 0],\n",
              "         ...,\n",
              "         [0, 0, 0, ..., 0, 0, 0],\n",
              "         [0, 0, 0, ..., 0, 0, 0],\n",
              "         [0, 0, 0, ..., 0, 0, 0]])>),\n",
              " <tf.Tensor: shape=(128,), dtype=int64, numpy=\n",
              " array([1, 1, 1, 1, 1, 0, 1, 0, 1, 1, 1, 0, 1, 1, 1, 1, 1, 0, 1, 1, 1, 1,\n",
              "        1, 1, 0, 0, 1, 1, 1, 1, 1, 0, 1, 0, 1, 1, 0, 0, 0, 1, 0, 1, 1, 1,\n",
              "        1, 0, 0, 1, 0, 0, 0, 0, 1, 1, 1, 1, 0, 1, 1, 0, 1, 1, 1, 0, 1, 0,\n",
              "        0, 0, 1, 1, 0, 0, 1, 1, 1, 1, 1, 1, 0, 0, 1, 1, 0, 0, 0, 1, 1, 0,\n",
              "        1, 0, 1, 0, 1, 1, 1, 1, 1, 1, 1, 1, 1, 0, 0, 1, 0, 1, 0, 1, 1, 1,\n",
              "        1, 1, 0, 0, 1, 1, 1, 1, 1, 1, 1, 0, 0, 0, 0, 0, 1, 0])>)"
            ]
          },
          "metadata": {
            "tags": []
          },
          "execution_count": 22
        }
      ]
    },
    {
      "cell_type": "markdown",
      "metadata": {
        "id": "w0zSGDOrqO7k",
        "colab_type": "text"
      },
      "source": [
        "### BERT model"
      ]
    },
    {
      "cell_type": "code",
      "metadata": {
        "id": "LyyXab1fhtny",
        "colab_type": "code",
        "colab": {}
      },
      "source": [
        "from tensorflow.keras.models import Model\n",
        "from tensorflow.keras.layers import Input, Dense, Dropout\n",
        "from tensorflow.keras.initializers import Constant\n",
        "\n",
        "from tensorflow.keras.optimizers import Adam\n",
        "from tensorflow.keras.losses import BinaryCrossentropy\n",
        "from tensorflow.keras.metrics import Precision, Recall, AUC\n",
        "\n",
        "import tensorflow.keras.backend as K"
      ],
      "execution_count": 23,
      "outputs": []
    },
    {
      "cell_type": "markdown",
      "metadata": {
        "id": "-q7aapqQzzXg",
        "colab_type": "text"
      },
      "source": [
        "Helper functions"
      ]
    },
    {
      "cell_type": "code",
      "metadata": {
        "id": "CopoyJgqwDVp",
        "colab_type": "code",
        "colab": {}
      },
      "source": [
        "def MCC(y_true, y_pred):\n",
        "    # implement Matthews correlation coefficient\n",
        "    y_true_pos = K.round(K.clip(y_true, 0, 1)) \n",
        "    y_pred_pos = K.round(K.clip(y_pred, 0, 1))\n",
        "    y_true_neg, y_pred_neg = 1-y_true_pos, 1-y_pred_pos\n",
        "\n",
        "    tp = K.sum(y_true_pos * y_pred_pos)\n",
        "    tn = K.sum(y_true_neg * y_pred_neg)\n",
        "    fp = K.sum(y_true_neg * y_pred_pos)\n",
        "    fn = K.sum(y_true_pos * y_pred_neg)\n",
        "\n",
        "    return (tp*tn - fp*fn)/(K.sqrt((tp+fp)*(tp+fn)*(tn+fp)*(tn+fn)) + K.epsilon())\n"
      ],
      "execution_count": 24,
      "outputs": []
    },
    {
      "cell_type": "code",
      "metadata": {
        "id": "QFnbOTwweJGB",
        "colab_type": "code",
        "colab": {}
      },
      "source": [
        "def plot_training(history):\n",
        "    f,axes = plt.subplots(1, 2, figsize=(12, 4))\n",
        "    ax0,ax1=axes[0],axes[1]\n",
        "    epochs = np.arange(1,EPOCHS+1)\n",
        "\n",
        "    ax0.plot(epochs, history.history['MCC'], label='MCC train') \n",
        "    ax0.plot(epochs, history.history['val_MCC'], label='MCC val') \n",
        "    ax0.set_title('Matthews correlation')\n",
        "    ax0.set_ylim(0,1.1)\n",
        "    ax0.legend()\n",
        "\n",
        "    ax1.plot(epochs, history.history['precision'], label='AUC train') \n",
        "    ax1.plot(epochs, history.history['val_precision'], label='AUC val') \n",
        "    ax1.set_title('AUC')\n",
        "    ax1.set_ylim(0,1.1)\n",
        "    ax1.legend()\n",
        "\n",
        "    plt.show()"
      ],
      "execution_count": 25,
      "outputs": []
    },
    {
      "cell_type": "markdown",
      "metadata": {
        "id": "AMmpRX57ztCI",
        "colab_type": "text"
      },
      "source": [
        "Build the model using BERT layer"
      ]
    },
    {
      "cell_type": "code",
      "metadata": {
        "id": "SlKDp37XqO-L",
        "colab_type": "code",
        "colab": {}
      },
      "source": [
        "input_word_ids = Input(shape=(MAX_LEN,), dtype=tf.int32, name=\"input_word_ids\")\n",
        "input_mask     = Input(shape=(MAX_LEN,), dtype=tf.int32, name=\"input_mask\")\n",
        "segment_ids    = Input(shape=(MAX_LEN,), dtype=tf.int32, name=\"segment_ids\")\n",
        "\n",
        "inputs = [input_word_ids, input_mask, segment_ids]\n",
        "\n",
        "# BERT has 2 outputs - pooled_output, sequence_output\n",
        "# For classification purposes, use only the pooled_output (H dimension of the first [CLS] token)\n",
        "x, _ = bert_layer(inputs)\n",
        "\n",
        "dropout_rate = 0.1\n",
        "x = Dropout(dropout_rate)(x)\n",
        "\n",
        "# initial bias for the classifier to reflect class imbalance\n",
        "class_bias = np.log(1/(1-train_df.iloc[:,1].mean())-1)\n",
        "output = Dense(1, activation='sigmoid', bias_initializer=Constant(class_bias))(x)\n",
        "\n",
        "model = Model(inputs, output)"
      ],
      "execution_count": 55,
      "outputs": []
    },
    {
      "cell_type": "code",
      "metadata": {
        "id": "AfoNAvAvueZ1",
        "colab_type": "code",
        "colab": {
          "base_uri": "https://localhost:8080/",
          "height": 397
        },
        "outputId": "0a59d2b1-8099-42cc-cccf-1d0324827cd1"
      },
      "source": [
        "model.summary()"
      ],
      "execution_count": 56,
      "outputs": [
        {
          "output_type": "stream",
          "text": [
            "Model: \"functional_7\"\n",
            "__________________________________________________________________________________________________\n",
            "Layer (type)                    Output Shape         Param #     Connected to                     \n",
            "==================================================================================================\n",
            "input_word_ids (InputLayer)     [(None, 47)]         0                                            \n",
            "__________________________________________________________________________________________________\n",
            "input_mask (InputLayer)         [(None, 47)]         0                                            \n",
            "__________________________________________________________________________________________________\n",
            "segment_ids (InputLayer)        [(None, 47)]         0                                            \n",
            "__________________________________________________________________________________________________\n",
            "bert_layer (KerasLayer)         [(None, 768), (None, 109482241   input_word_ids[0][0]             \n",
            "                                                                 input_mask[0][0]                 \n",
            "                                                                 segment_ids[0][0]                \n",
            "__________________________________________________________________________________________________\n",
            "dropout_3 (Dropout)             (None, 768)          0           bert_layer[3][0]                 \n",
            "__________________________________________________________________________________________________\n",
            "dense_3 (Dense)                 (None, 1)            769         dropout_3[0][0]                  \n",
            "==================================================================================================\n",
            "Total params: 109,483,010\n",
            "Trainable params: 109,483,009\n",
            "Non-trainable params: 1\n",
            "__________________________________________________________________________________________________\n"
          ],
          "name": "stdout"
        }
      ]
    },
    {
      "cell_type": "code",
      "metadata": {
        "id": "fAilgGHeQO5M",
        "colab_type": "code",
        "colab": {
          "base_uri": "https://localhost:8080/",
          "height": 287
        },
        "outputId": "66d85b9a-51af-4096-940f-67c8642002ca"
      },
      "source": [
        "tf.keras.utils.plot_model(model, show_shapes=True, dpi=64)"
      ],
      "execution_count": 57,
      "outputs": [
        {
          "output_type": "execute_result",
          "data": {
            "image/png": "[encoded data removed]",
            "text/plain": [
              "<IPython.core.display.Image object>"
            ]
          },
          "metadata": {
            "tags": []
          },
          "execution_count": 57
        }
      ]
    },
    {
      "cell_type": "code",
      "metadata": {
        "id": "sOFDYtiYX1Vs",
        "colab_type": "code",
        "colab": {
          "base_uri": "https://localhost:8080/",
          "height": 52
        },
        "outputId": "3f847308-ab6f-4bb2-a487-80c0f6e2d871"
      },
      "source": [
        "# verify the proper functioning of the computational graph\n",
        "tic=time.time()\n",
        "\n",
        "sample_input = next(iter(train_dataset))\n",
        "sample_output = model(sample_input)\n",
        "\n",
        "toc=time.time()\n",
        "print(f'done in {toc-tic:.1f} sec')\n",
        "print(sample_output.shape)\n"
      ],
      "execution_count": 58,
      "outputs": [
        {
          "output_type": "stream",
          "text": [
            "done in 0.0 sec\n",
            "(128, 1)\n"
          ],
          "name": "stdout"
        }
      ]
    },
    {
      "cell_type": "code",
      "metadata": {
        "id": "uIGVEGAlh3Vm",
        "colab_type": "code",
        "colab": {}
      },
      "source": [
        "EPOCHS = 10"
      ],
      "execution_count": 59,
      "outputs": []
    },
    {
      "cell_type": "code",
      "metadata": {
        "id": "oAG8tDZUhG48",
        "colab_type": "code",
        "colab": {}
      },
      "source": [
        "# set up the optimizer\n",
        "train_data_size = train_df.shape[0]\n",
        "steps_per_epoch = int(train_data_size / BATCH_SIZE)\n",
        "num_train_steps = steps_per_epoch * EPOCHS\n",
        "warmup_steps = 0 #int(EPOCHS * train_data_size * 0.1 / BATCH_SIZE)\n",
        "\n",
        "bert_optimizer = optimization.create_optimizer(init_lr=1e-4, \n",
        "                                        num_train_steps=num_train_steps, \n",
        "                                        num_warmup_steps=warmup_steps)"
      ],
      "execution_count": 60,
      "outputs": []
    },
    {
      "cell_type": "code",
      "metadata": {
        "id": "lGlFQCrk17Yr",
        "colab_type": "code",
        "colab": {}
      },
      "source": [
        "# Use either bert_optimizer or Adam with flat schedule (e.g. Adam(1e-5))\n",
        "model.compile(optimizer=bert_optimizer,\n",
        "              loss=BinaryCrossentropy(),\n",
        "              metrics=[MCC, Precision(name='precision')], \n",
        "              )\n"
      ],
      "execution_count": 61,
      "outputs": []
    },
    {
      "cell_type": "code",
      "metadata": {
        "id": "An3UEjtM2b-i",
        "colab_type": "code",
        "colab": {
          "base_uri": "https://localhost:8080/",
          "height": 383
        },
        "outputId": "a3a018d0-6c64-427c-9740-e959d708a539"
      },
      "source": [
        "history = model.fit(\n",
        "    train_dataset,\n",
        "    epochs=EPOCHS,\n",
        "    verbose=1,\n",
        "\n",
        "    # callbacks = [early_stopping],\n",
        "    validation_data=val_dataset)"
      ],
      "execution_count": 62,
      "outputs": [
        {
          "output_type": "stream",
          "text": [
            "Epoch 1/10\n",
            "67/67 [==============================] - 52s 776ms/step - loss: 0.4128 - MCC: 0.5851 - precision: 0.8482 - val_loss: 0.4619 - val_MCC: 0.5832 - val_precision: 0.8387\n",
            "Epoch 2/10\n",
            "67/67 [==============================] - 45s 674ms/step - loss: 0.2417 - MCC: 0.7878 - precision: 0.9276 - val_loss: 0.5957 - val_MCC: 0.5565 - val_precision: 0.8050\n",
            "Epoch 3/10\n",
            "67/67 [==============================] - 45s 673ms/step - loss: 0.1546 - MCC: 0.8659 - precision: 0.9507 - val_loss: 0.5569 - val_MCC: 0.5924 - val_precision: 0.8425\n",
            "Epoch 4/10\n",
            "67/67 [==============================] - 45s 674ms/step - loss: 0.1071 - MCC: 0.9133 - precision: 0.9742 - val_loss: 0.6860 - val_MCC: 0.6295 - val_precision: 0.8286\n",
            "Epoch 5/10\n",
            "67/67 [==============================] - 45s 674ms/step - loss: 0.0733 - MCC: 0.9394 - precision: 0.9815 - val_loss: 0.7430 - val_MCC: 0.6185 - val_precision: 0.8369\n",
            "Epoch 6/10\n",
            "67/67 [==============================] - 45s 674ms/step - loss: 0.0565 - MCC: 0.9546 - precision: 0.9853 - val_loss: 0.7730 - val_MCC: 0.6016 - val_precision: 0.8370\n",
            "Epoch 7/10\n",
            "67/67 [==============================] - 45s 673ms/step - loss: 0.0296 - MCC: 0.9761 - precision: 0.9935 - val_loss: 0.9684 - val_MCC: 0.6010 - val_precision: 0.8305\n",
            "Epoch 8/10\n",
            "67/67 [==============================] - 45s 674ms/step - loss: 0.0226 - MCC: 0.9815 - precision: 0.9936 - val_loss: 0.9183 - val_MCC: 0.6097 - val_precision: 0.8428\n",
            "Epoch 9/10\n",
            "67/67 [==============================] - 45s 674ms/step - loss: 0.0178 - MCC: 0.9900 - precision: 0.9969 - val_loss: 0.9166 - val_MCC: 0.6714 - val_precision: 0.8629\n",
            "Epoch 10/10\n",
            "67/67 [==============================] - 45s 674ms/step - loss: 0.0141 - MCC: 0.9890 - precision: 0.9967 - val_loss: 0.9636 - val_MCC: 0.6267 - val_precision: 0.8546\n"
          ],
          "name": "stdout"
        }
      ]
    },
    {
      "cell_type": "code",
      "metadata": {
        "id": "o_Bpjl-fmh7E",
        "colab_type": "code",
        "colab": {
          "base_uri": "https://localhost:8080/",
          "height": 282
        },
        "outputId": "ebe7d667-8601-4772-ab91-6685454e1915"
      },
      "source": [
        "plot_training(history)"
      ],
      "execution_count": 63,
      "outputs": [
        {
          "output_type": "display_data",
          "data": {
            "image/png": "[encoded data removed]",
            "text/plain": [
              "<Figure size 864x288 with 2 Axes>"
            ]
          },
          "metadata": {
            "tags": []
          }
        }
      ]
    },
    {
      "cell_type": "markdown",
      "metadata": {
        "id": "cfoBkaAfmOCu",
        "colab_type": "text"
      },
      "source": [
        "Apparent overfitting starting at about epoch 5. A quick search through plausible dropout/learning rates did not yield any stable improvements. \n",
        "The training dataset is very small, and one of the remedies to overfitting may be training on other sources of good/bad sentences. This is expressely permitted under the GLUE rules."
      ]
    },
    {
      "cell_type": "markdown",
      "metadata": {
        "id": "z_7k3jGD4p4H",
        "colab_type": "text"
      },
      "source": [
        "### Predict test (Kaggle)"
      ]
    },
    {
      "cell_type": "markdown",
      "metadata": {
        "id": "R-cr4QPzTjt5",
        "colab_type": "text"
      },
      "source": [
        "From CoLA [Kaggle competition](https://www.kaggle.com/c/cola-in-domain-open-evaluation/overview) rules: \n",
        "- For submission you will have to generate a CSV with two columns, Id and Label where Id is same and Label is 0 or 1 depicting whether Sentence is grammatical or not."
      ]
    },
    {
      "cell_type": "code",
      "metadata": {
        "id": "agD1TUgdRr0u",
        "colab_type": "code",
        "colab": {
          "base_uri": "https://localhost:8080/",
          "height": 228
        },
        "outputId": "44eb24c0-4487-4b9e-acd9-42ea882b9398"
      },
      "source": [
        "test_df.head()"
      ],
      "execution_count": 64,
      "outputs": [
        {
          "output_type": "execute_result",
          "data": {
            "text/html": [
              "<div>\n",
              "<style scoped>\n",
              "    .dataframe tbody tr th:only-of-type {\n",
              "        vertical-align: middle;\n",
              "    }\n",
              "\n",
              "    .dataframe tbody tr th {\n",
              "        vertical-align: top;\n",
              "    }\n",
              "\n",
              "    .dataframe thead th {\n",
              "        text-align: right;\n",
              "    }\n",
              "</style>\n",
              "<table border=\"1\" class=\"dataframe\">\n",
              "  <thead>\n",
              "    <tr style=\"text-align: right;\">\n",
              "      <th></th>\n",
              "      <th>Sentence</th>\n",
              "    </tr>\n",
              "    <tr>\n",
              "      <th>Id</th>\n",
              "      <th></th>\n",
              "    </tr>\n",
              "  </thead>\n",
              "  <tbody>\n",
              "    <tr>\n",
              "      <th>1</th>\n",
              "      <td>Bill whistled past the house.</td>\n",
              "    </tr>\n",
              "    <tr>\n",
              "      <th>2</th>\n",
              "      <td>The car honked its way down the road.</td>\n",
              "    </tr>\n",
              "    <tr>\n",
              "      <th>3</th>\n",
              "      <td>Bill pushed Harry off the sofa.</td>\n",
              "    </tr>\n",
              "    <tr>\n",
              "      <th>4</th>\n",
              "      <td>the kittens yawned awake and played.</td>\n",
              "    </tr>\n",
              "    <tr>\n",
              "      <th>5</th>\n",
              "      <td>I demand that the more John eats, the more he ...</td>\n",
              "    </tr>\n",
              "  </tbody>\n",
              "</table>\n",
              "</div>"
            ],
            "text/plain": [
              "                                             Sentence\n",
              "Id                                                   \n",
              "1                       Bill whistled past the house.\n",
              "2               The car honked its way down the road.\n",
              "3                     Bill pushed Harry off the sofa.\n",
              "4                the kittens yawned awake and played.\n",
              "5   I demand that the more John eats, the more he ..."
            ]
          },
          "metadata": {
            "tags": []
          },
          "execution_count": 64
        }
      ]
    },
    {
      "cell_type": "code",
      "metadata": {
        "id": "KTcV1IzXSEI9",
        "colab_type": "code",
        "colab": {}
      },
      "source": [
        "# produce 3-part inputs for BERT from the test file\n",
        "max_len=MAX_LEN\n",
        "\n",
        "input_word_ids=[]\n",
        "for sentence in test_df.iloc[:,-1]:\n",
        "    input_word_ids.append(encode_sentence(sentence))\n",
        "input_word_ids = pad_sequences(input_word_ids, maxlen=max_len, dtype=\"long\", value=0, padding=\"post\")\n",
        "input_mask = np.vectorize(lambda arr: int(arr>0))(input_word_ids)\n",
        "input_segment_ids = np.zeros_like(input_mask)\n",
        "inputs = (input_word_ids, input_mask, input_segment_ids)\n"
      ],
      "execution_count": 65,
      "outputs": []
    },
    {
      "cell_type": "code",
      "metadata": {
        "id": "5T4M45Q_SQcC",
        "colab_type": "code",
        "colab": {
          "base_uri": "https://localhost:8080/",
          "height": 52
        },
        "outputId": "75276c86-c314-4b5f-ae5d-774b8fb52ca0"
      },
      "source": [
        "test_predictions = np.squeeze(model(inputs).numpy())\n",
        "print(test_predictions.shape)\n",
        "print(np.mean(np.round(test_predictions)))"
      ],
      "execution_count": 66,
      "outputs": [
        {
          "output_type": "stream",
          "text": [
            "(530,)\n",
            "0.80566037\n"
          ],
          "name": "stdout"
        }
      ]
    },
    {
      "cell_type": "code",
      "metadata": {
        "id": "s3sd4lEMUY2H",
        "colab_type": "code",
        "colab": {
          "base_uri": "https://localhost:8080/",
          "height": 198
        },
        "outputId": "29a15a16-279f-4bde-805f-ba3812ce94a7"
      },
      "source": [
        "kaggle_df = pd.DataFrame({'Id': test_df.index, 'Label': np.round(test_predictions)}, dtype=int)\n",
        "kaggle_df.head()"
      ],
      "execution_count": 67,
      "outputs": [
        {
          "output_type": "execute_result",
          "data": {
            "text/html": [
              "<div>\n",
              "<style scoped>\n",
              "    .dataframe tbody tr th:only-of-type {\n",
              "        vertical-align: middle;\n",
              "    }\n",
              "\n",
              "    .dataframe tbody tr th {\n",
              "        vertical-align: top;\n",
              "    }\n",
              "\n",
              "    .dataframe thead th {\n",
              "        text-align: right;\n",
              "    }\n",
              "</style>\n",
              "<table border=\"1\" class=\"dataframe\">\n",
              "  <thead>\n",
              "    <tr style=\"text-align: right;\">\n",
              "      <th></th>\n",
              "      <th>Id</th>\n",
              "      <th>Label</th>\n",
              "    </tr>\n",
              "  </thead>\n",
              "  <tbody>\n",
              "    <tr>\n",
              "      <th>0</th>\n",
              "      <td>1</td>\n",
              "      <td>1</td>\n",
              "    </tr>\n",
              "    <tr>\n",
              "      <th>1</th>\n",
              "      <td>2</td>\n",
              "      <td>1</td>\n",
              "    </tr>\n",
              "    <tr>\n",
              "      <th>2</th>\n",
              "      <td>3</td>\n",
              "      <td>1</td>\n",
              "    </tr>\n",
              "    <tr>\n",
              "      <th>3</th>\n",
              "      <td>4</td>\n",
              "      <td>1</td>\n",
              "    </tr>\n",
              "    <tr>\n",
              "      <th>4</th>\n",
              "      <td>5</td>\n",
              "      <td>0</td>\n",
              "    </tr>\n",
              "  </tbody>\n",
              "</table>\n",
              "</div>"
            ],
            "text/plain": [
              "   Id  Label\n",
              "0   1      1\n",
              "1   2      1\n",
              "2   3      1\n",
              "3   4      1\n",
              "4   5      0"
            ]
          },
          "metadata": {
            "tags": []
          },
          "execution_count": 67
        }
      ]
    },
    {
      "cell_type": "code",
      "metadata": {
        "id": "tOP_nzuXakzc",
        "colab_type": "code",
        "colab": {}
      },
      "source": [
        "kaggle_df.to_csv(path+f'cola_data/predictions/cola_{int(time.time())}.csv', index=False)"
      ],
      "execution_count": 68,
      "outputs": []
    },
    {
      "cell_type": "code",
      "metadata": {
        "id": "cEu7UGJ4B7us",
        "colab_type": "code",
        "colab": {}
      },
      "source": [
        "# Submission file: cola_1595781677.csv\n",
        "# Your submission scored 0.57044"
      ],
      "execution_count": null,
      "outputs": []
    }
  ]
}